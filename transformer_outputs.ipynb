{
  "cells": [
    {
      "cell_type": "markdown",
      "metadata": {},
      "source": [
        "# P2020 Town Hall\n",
        "## Google, 2024-09-17\n",
        "\n",
        "![Machine Learning](https://imgs.xkcd.com/comics/machine_learning.png)"
      ]
    },
    {
      "cell_type": "markdown",
      "metadata": {
        "id": "N-VIf5URNM7q"
      },
      "source": [
        "# Setup\n",
        "\n",
        "Most of this is \"borrowed\" from a bunch of examples. See [Sources](#Sources).\n",
        "\n",
        "To open this in Google Colab, click [here](https://colab.research.google.com/github/klao/town-hall-2024/blob/master/transformer_clean.ipynb)."
      ]
    },
    {
      "cell_type": "code",
      "execution_count": 43,
      "metadata": {
        "colab": {
          "base_uri": "https://localhost:8080/"
        },
        "id": "isiMrnRaOSik",
        "outputId": "d925b5c0-2863-45ca-a0a5-16e8eefae8c4"
      },
      "outputs": [],
      "source": [
        "import sys\n",
        "\n",
        "IN_COLAB = 'google.colab' in sys.modules\n",
        "\n",
        "if IN_COLAB:\n",
        "    %pip install einops\n",
        "    %pip install jaxtyping\n",
        "    %pip install transformer_lens\n",
        "    %pip install git+https://github.com/callummcdougall/CircuitsVis.git#subdirectory=python\n",
        "else:\n",
        "    # See README.md for local setup\n",
        "    pass"
      ]
    },
    {
      "cell_type": "code",
      "execution_count": 44,
      "metadata": {
        "id": "lHL1yEOAPu3v"
      },
      "outputs": [],
      "source": [
        "import os\n",
        "import sys\n",
        "import plotly.express as px\n",
        "import torch as t\n",
        "from torch import Tensor\n",
        "import torch.nn as nn\n",
        "import torch.nn.functional as F\n",
        "from pathlib import Path\n",
        "import numpy as np\n",
        "import einops\n",
        "from fancy_einsum import einsum\n",
        "from jaxtyping import Int, Float\n",
        "from typing import List, Optional, Tuple\n",
        "import functools\n",
        "from tqdm import tqdm\n",
        "from IPython.display import display\n",
        "import webbrowser\n",
        "import gdown\n",
        "from transformer_lens.hook_points import HookPoint\n",
        "from transformer_lens import utils, HookedTransformer, HookedTransformerConfig, FactoredMatrix, ActivationCache\n",
        "from transformer_lens.utils import get_corner\n",
        "import circuitsvis as cv\n",
        "\n",
        "# Saves computation time, since we don't need it for the contents of this notebook\n",
        "t.set_grad_enabled(False)\n",
        "\n",
        "device = t.device(\"cuda\" if t.cuda.is_available() else \"cpu\")"
      ]
    },
    {
      "cell_type": "markdown",
      "metadata": {
        "id": "jTw0C8JsQNzi"
      },
      "source": [
        "# Let's look at the model"
      ]
    },
    {
      "cell_type": "code",
      "execution_count": 45,
      "metadata": {
        "colab": {
          "base_uri": "https://localhost:8080/"
        },
        "id": "oAjxyDmVCVbh",
        "outputId": "6e8de37d-34b3-4ff3-90c6-27063f4a6fa8"
      },
      "outputs": [
        {
          "name": "stdout",
          "output_type": "stream",
          "text": [
            "Loaded pretrained model gpt2-small into HookedTransformer\n"
          ]
        }
      ],
      "source": [
        "gpt2 = HookedTransformer.from_pretrained(\"gpt2-small\")"
      ]
    },
    {
      "cell_type": "code",
      "execution_count": 46,
      "metadata": {},
      "outputs": [
        {
          "data": {
            "text/plain": [
              "HookedTransformer(\n",
              "  (embed): Embed()\n",
              "  (hook_embed): HookPoint()\n",
              "  (pos_embed): PosEmbed()\n",
              "  (hook_pos_embed): HookPoint()\n",
              "  (blocks): ModuleList(\n",
              "    (0-11): 12 x TransformerBlock(\n",
              "      (ln1): LayerNormPre(\n",
              "        (hook_scale): HookPoint()\n",
              "        (hook_normalized): HookPoint()\n",
              "      )\n",
              "      (ln2): LayerNormPre(\n",
              "        (hook_scale): HookPoint()\n",
              "        (hook_normalized): HookPoint()\n",
              "      )\n",
              "      (attn): Attention(\n",
              "        (hook_k): HookPoint()\n",
              "        (hook_q): HookPoint()\n",
              "        (hook_v): HookPoint()\n",
              "        (hook_z): HookPoint()\n",
              "        (hook_attn_scores): HookPoint()\n",
              "        (hook_pattern): HookPoint()\n",
              "        (hook_result): HookPoint()\n",
              "      )\n",
              "      (mlp): MLP(\n",
              "        (hook_pre): HookPoint()\n",
              "        (hook_post): HookPoint()\n",
              "      )\n",
              "      (hook_attn_in): HookPoint()\n",
              "      (hook_q_input): HookPoint()\n",
              "      (hook_k_input): HookPoint()\n",
              "      (hook_v_input): HookPoint()\n",
              "      (hook_mlp_in): HookPoint()\n",
              "      (hook_attn_out): HookPoint()\n",
              "      (hook_mlp_out): HookPoint()\n",
              "      (hook_resid_pre): HookPoint()\n",
              "      (hook_resid_mid): HookPoint()\n",
              "      (hook_resid_post): HookPoint()\n",
              "    )\n",
              "  )\n",
              "  (ln_final): LayerNormPre(\n",
              "    (hook_scale): HookPoint()\n",
              "    (hook_normalized): HookPoint()\n",
              "  )\n",
              "  (unembed): Unembed()\n",
              ")"
            ]
          },
          "execution_count": 46,
          "metadata": {},
          "output_type": "execute_result"
        }
      ],
      "source": [
        "gpt2"
      ]
    },
    {
      "cell_type": "code",
      "execution_count": 47,
      "metadata": {},
      "outputs": [
        {
          "data": {
            "text/plain": [
              "HookedTransformerConfig:\n",
              "{'act_fn': 'gelu_new',\n",
              " 'attention_dir': 'causal',\n",
              " 'attn_only': False,\n",
              " 'attn_types': None,\n",
              " 'checkpoint_index': None,\n",
              " 'checkpoint_label_type': None,\n",
              " 'checkpoint_value': None,\n",
              " 'd_head': 64,\n",
              " 'd_mlp': 3072,\n",
              " 'd_model': 768,\n",
              " 'd_vocab': 50257,\n",
              " 'd_vocab_out': 50257,\n",
              " 'default_prepend_bos': True,\n",
              " 'device': device(type='cuda'),\n",
              " 'dtype': torch.float32,\n",
              " 'eps': 1e-05,\n",
              " 'final_rms': False,\n",
              " 'from_checkpoint': False,\n",
              " 'gated_mlp': False,\n",
              " 'init_mode': 'gpt2',\n",
              " 'init_weights': False,\n",
              " 'initializer_range': 0.02886751345948129,\n",
              " 'model_name': 'gpt2',\n",
              " 'n_ctx': 1024,\n",
              " 'n_devices': 1,\n",
              " 'n_heads': 12,\n",
              " 'n_layers': 12,\n",
              " 'n_params': 84934656,\n",
              " 'normalization_type': 'LNPre',\n",
              " 'original_architecture': 'GPT2LMHeadModel',\n",
              " 'parallel_attn_mlp': False,\n",
              " 'positional_embedding_type': 'standard',\n",
              " 'post_embedding_ln': False,\n",
              " 'rotary_dim': None,\n",
              " 'scale_attn_by_inverse_layer_idx': False,\n",
              " 'seed': None,\n",
              " 'tokenizer_name': 'gpt2',\n",
              " 'tokenizer_prepends_bos': False,\n",
              " 'use_attn_in': False,\n",
              " 'use_attn_result': False,\n",
              " 'use_attn_scale': True,\n",
              " 'use_hook_mlp_in': False,\n",
              " 'use_hook_tokens': False,\n",
              " 'use_local_attn': False,\n",
              " 'use_split_qkv_input': False,\n",
              " 'window_size': None}"
            ]
          },
          "execution_count": 47,
          "metadata": {},
          "output_type": "execute_result"
        }
      ],
      "source": [
        "gpt2.cfg"
      ]
    },
    {
      "cell_type": "markdown",
      "metadata": {
        "id": "usYlUFIoQt0T"
      },
      "source": [
        "## Input: \"What does this eat?\" aka Tokenization"
      ]
    },
    {
      "cell_type": "code",
      "execution_count": 48,
      "metadata": {},
      "outputs": [
        {
          "data": {
            "text/plain": [
              "GPT2TokenizerFast(name_or_path='gpt2', vocab_size=50257, model_max_length=1024, is_fast=True, padding_side='right', truncation_side='right', special_tokens={'bos_token': '<|endoftext|>', 'eos_token': '<|endoftext|>', 'unk_token': '<|endoftext|>', 'pad_token': '<|endoftext|>'}, clean_up_tokenization_spaces=True),  added_tokens_decoder={\n",
              "\t50256: AddedToken(\"<|endoftext|>\", rstrip=False, lstrip=False, single_word=False, normalized=True, special=True),\n",
              "}"
            ]
          },
          "execution_count": 48,
          "metadata": {},
          "output_type": "execute_result"
        }
      ],
      "source": [
        "gpt2.tokenizer"
      ]
    },
    {
      "cell_type": "code",
      "execution_count": 49,
      "metadata": {},
      "outputs": [
        {
          "data": {
            "text/plain": [
              "[('!', 0),\n",
              " ('\"', 1),\n",
              " ('#', 2),\n",
              " ('$', 3),\n",
              " ('%', 4),\n",
              " ('&', 5),\n",
              " (\"'\", 6),\n",
              " ('(', 7),\n",
              " (')', 8),\n",
              " ('*', 9)]"
            ]
          },
          "execution_count": 49,
          "metadata": {},
          "output_type": "execute_result"
        }
      ],
      "source": [
        "vocab_sorted = sorted(gpt2.tokenizer.vocab.items(), key=lambda x: x[1])\n",
        "vocab_sorted[:10]"
      ]
    },
    {
      "cell_type": "code",
      "execution_count": 50,
      "metadata": {},
      "outputs": [
        {
          "data": {
            "text/plain": [
              "[('Ġ(/', 50247),\n",
              " ('âĢ¦.\"', 50248),\n",
              " ('Compar', 50249),\n",
              " ('Ġamplification', 50250),\n",
              " ('ominated', 50251),\n",
              " ('Ġregress', 50252),\n",
              " ('ĠCollider', 50253),\n",
              " ('Ġinformants', 50254),\n",
              " ('Ġgazed', 50255),\n",
              " ('<|endoftext|>', 50256)]"
            ]
          },
          "execution_count": 50,
          "metadata": {},
          "output_type": "execute_result"
        }
      ],
      "source": [
        "vocab_sorted[-10:]"
      ]
    },
    {
      "cell_type": "code",
      "execution_count": 51,
      "metadata": {},
      "outputs": [],
      "source": [
        "text = \"Hullo, my name is\""
      ]
    },
    {
      "cell_type": "code",
      "execution_count": 52,
      "metadata": {},
      "outputs": [
        {
          "name": "stdout",
          "output_type": "stream",
          "text": [
            "['<|endoftext|>', 'H', 'ull', 'o', ',', ' my', ' name', ' is']\n",
            "tensor([[50256,    39,   724,    78,    11,   616,  1438,   318]],\n",
            "       device='cuda:0')\n"
          ]
        }
      ],
      "source": [
        "print(gpt2.to_str_tokens(text))\n",
        "print(gpt2.to_tokens(text))"
      ]
    },
    {
      "cell_type": "markdown",
      "metadata": {},
      "source": [
        "## Output: \"What comes out?\""
      ]
    },
    {
      "cell_type": "code",
      "execution_count": 53,
      "metadata": {},
      "outputs": [
        {
          "name": "stdout",
          "output_type": "stream",
          "text": [
            "torch.Size([8, 50257])\n"
          ]
        }
      ],
      "source": [
        "predictions = gpt2(gpt2.to_tokens(text)).squeeze()\n",
        "predictions = predictions.softmax(-1)\n",
        "print(predictions.shape)"
      ]
    },
    {
      "cell_type": "code",
      "execution_count": 54,
      "metadata": {},
      "outputs": [
        {
          "data": {
            "text/plain": [
              "torch.return_types.topk(\n",
              "values=tensor([0.0230, 0.0181, 0.0119, 0.0113, 0.0113], device='cuda:0'),\n",
              "indices=tensor([1757,  367, 2940, 3619, 3899], device='cuda:0'))"
            ]
          },
          "execution_count": 54,
          "metadata": {},
          "output_type": "execute_result"
        }
      ],
      "source": [
        "best_predictions = predictions[-1, :].topk(5)\n",
        "best_predictions"
      ]
    },
    {
      "cell_type": "code",
      "execution_count": 55,
      "metadata": {},
      "outputs": [
        {
          "name": "stdout",
          "output_type": "stream",
          "text": [
            "\" John\"\n",
            "\" H\"\n",
            "\" Mark\"\n",
            "\" Jack\"\n",
            "\" Michael\"\n"
          ]
        }
      ],
      "source": [
        "for k in best_predictions.indices:\n",
        "    print(f'\"{gpt2.tokenizer.decode([k])}\"')"
      ]
    },
    {
      "cell_type": "markdown",
      "metadata": {},
      "source": [
        "# Longer example"
      ]
    },
    {
      "cell_type": "code",
      "execution_count": 56,
      "metadata": {},
      "outputs": [],
      "source": [
        "text = (\"This is a story about Quomatarus.\"\n",
        "  + \" When one day Quomatarus decided\")"
      ]
    },
    {
      "cell_type": "code",
      "execution_count": 57,
      "metadata": {},
      "outputs": [
        {
          "name": "stdout",
          "output_type": "stream",
          "text": [
            "['<|endoftext|>', 'This', ' is', ' a', ' story', ' about', ' Qu', 'om', 'atar', 'us', '.', ' When', ' one', ' day', ' Qu', 'om', 'atar', 'us', ' decided']\n",
            "torch.Size([1, 19])\n"
          ]
        }
      ],
      "source": [
        "tokens = gpt2.to_tokens(text)\n",
        "str_tokens = gpt2.to_str_tokens(text)\n",
        "print(str_tokens)\n",
        "print(tokens.shape)"
      ]
    },
    {
      "cell_type": "code",
      "execution_count": 59,
      "metadata": {
        "colab": {
          "base_uri": "https://localhost:8080/"
        },
        "id": "HUrk3ocP_Oit",
        "outputId": "87d79e03-9ca3-4dd3-ab96-ea71c43d58d8"
      },
      "outputs": [
        {
          "name": "stdout",
          "output_type": "stream",
          "text": [
            "ActivationCache with keys ['hook_embed', 'hook_pos_embed', 'blocks.0.hook_resid_pre', 'blocks.0.ln1.hook_scale', 'blocks.0.ln1.hook_normalized', 'blocks.0.attn.hook_q', 'blocks.0.attn.hook_k', 'blocks.0.attn.hook_v', 'blocks.0.attn.hook_attn_scores', 'blocks.0.attn.hook_pattern', 'blocks.0.attn.hook_z', 'blocks.0.hook_attn_out', 'blocks.0.hook_resid_mid', 'blocks.0.ln2.hook_scale', 'blocks.0.ln2.hook_normalized', 'blocks.0.mlp.hook_pre', 'blocks.0.mlp.hook_post', 'blocks.0.hook_mlp_out', 'blocks.0.hook_resid_post', 'blocks.1.hook_resid_pre', 'blocks.1.ln1.hook_scale', 'blocks.1.ln1.hook_normalized', 'blocks.1.attn.hook_q', 'blocks.1.attn.hook_k', 'blocks.1.attn.hook_v', 'blocks.1.attn.hook_attn_scores', 'blocks.1.attn.hook_pattern', 'blocks.1.attn.hook_z', 'blocks.1.hook_attn_out', 'blocks.1.hook_resid_mid', 'blocks.1.ln2.hook_scale', 'blocks.1.ln2.hook_normalized', 'blocks.1.mlp.hook_pre', 'blocks.1.mlp.hook_post', 'blocks.1.hook_mlp_out', 'blocks.1.hook_resid_post', 'blocks.2.hook_resid_pre', 'blocks.2.ln1.hook_scale', 'blocks.2.ln1.hook_normalized', 'blocks.2.attn.hook_q', 'blocks.2.attn.hook_k', 'blocks.2.attn.hook_v', 'blocks.2.attn.hook_attn_scores', 'blocks.2.attn.hook_pattern', 'blocks.2.attn.hook_z', 'blocks.2.hook_attn_out', 'blocks.2.hook_resid_mid', 'blocks.2.ln2.hook_scale', 'blocks.2.ln2.hook_normalized', 'blocks.2.mlp.hook_pre', 'blocks.2.mlp.hook_post', 'blocks.2.hook_mlp_out', 'blocks.2.hook_resid_post', 'blocks.3.hook_resid_pre', 'blocks.3.ln1.hook_scale', 'blocks.3.ln1.hook_normalized', 'blocks.3.attn.hook_q', 'blocks.3.attn.hook_k', 'blocks.3.attn.hook_v', 'blocks.3.attn.hook_attn_scores', 'blocks.3.attn.hook_pattern', 'blocks.3.attn.hook_z', 'blocks.3.hook_attn_out', 'blocks.3.hook_resid_mid', 'blocks.3.ln2.hook_scale', 'blocks.3.ln2.hook_normalized', 'blocks.3.mlp.hook_pre', 'blocks.3.mlp.hook_post', 'blocks.3.hook_mlp_out', 'blocks.3.hook_resid_post', 'blocks.4.hook_resid_pre', 'blocks.4.ln1.hook_scale', 'blocks.4.ln1.hook_normalized', 'blocks.4.attn.hook_q', 'blocks.4.attn.hook_k', 'blocks.4.attn.hook_v', 'blocks.4.attn.hook_attn_scores', 'blocks.4.attn.hook_pattern', 'blocks.4.attn.hook_z', 'blocks.4.hook_attn_out', 'blocks.4.hook_resid_mid', 'blocks.4.ln2.hook_scale', 'blocks.4.ln2.hook_normalized', 'blocks.4.mlp.hook_pre', 'blocks.4.mlp.hook_post', 'blocks.4.hook_mlp_out', 'blocks.4.hook_resid_post', 'blocks.5.hook_resid_pre', 'blocks.5.ln1.hook_scale', 'blocks.5.ln1.hook_normalized', 'blocks.5.attn.hook_q', 'blocks.5.attn.hook_k', 'blocks.5.attn.hook_v', 'blocks.5.attn.hook_attn_scores', 'blocks.5.attn.hook_pattern', 'blocks.5.attn.hook_z', 'blocks.5.hook_attn_out', 'blocks.5.hook_resid_mid', 'blocks.5.ln2.hook_scale', 'blocks.5.ln2.hook_normalized', 'blocks.5.mlp.hook_pre', 'blocks.5.mlp.hook_post', 'blocks.5.hook_mlp_out', 'blocks.5.hook_resid_post', 'blocks.6.hook_resid_pre', 'blocks.6.ln1.hook_scale', 'blocks.6.ln1.hook_normalized', 'blocks.6.attn.hook_q', 'blocks.6.attn.hook_k', 'blocks.6.attn.hook_v', 'blocks.6.attn.hook_attn_scores', 'blocks.6.attn.hook_pattern', 'blocks.6.attn.hook_z', 'blocks.6.hook_attn_out', 'blocks.6.hook_resid_mid', 'blocks.6.ln2.hook_scale', 'blocks.6.ln2.hook_normalized', 'blocks.6.mlp.hook_pre', 'blocks.6.mlp.hook_post', 'blocks.6.hook_mlp_out', 'blocks.6.hook_resid_post', 'blocks.7.hook_resid_pre', 'blocks.7.ln1.hook_scale', 'blocks.7.ln1.hook_normalized', 'blocks.7.attn.hook_q', 'blocks.7.attn.hook_k', 'blocks.7.attn.hook_v', 'blocks.7.attn.hook_attn_scores', 'blocks.7.attn.hook_pattern', 'blocks.7.attn.hook_z', 'blocks.7.hook_attn_out', 'blocks.7.hook_resid_mid', 'blocks.7.ln2.hook_scale', 'blocks.7.ln2.hook_normalized', 'blocks.7.mlp.hook_pre', 'blocks.7.mlp.hook_post', 'blocks.7.hook_mlp_out', 'blocks.7.hook_resid_post', 'blocks.8.hook_resid_pre', 'blocks.8.ln1.hook_scale', 'blocks.8.ln1.hook_normalized', 'blocks.8.attn.hook_q', 'blocks.8.attn.hook_k', 'blocks.8.attn.hook_v', 'blocks.8.attn.hook_attn_scores', 'blocks.8.attn.hook_pattern', 'blocks.8.attn.hook_z', 'blocks.8.hook_attn_out', 'blocks.8.hook_resid_mid', 'blocks.8.ln2.hook_scale', 'blocks.8.ln2.hook_normalized', 'blocks.8.mlp.hook_pre', 'blocks.8.mlp.hook_post', 'blocks.8.hook_mlp_out', 'blocks.8.hook_resid_post', 'blocks.9.hook_resid_pre', 'blocks.9.ln1.hook_scale', 'blocks.9.ln1.hook_normalized', 'blocks.9.attn.hook_q', 'blocks.9.attn.hook_k', 'blocks.9.attn.hook_v', 'blocks.9.attn.hook_attn_scores', 'blocks.9.attn.hook_pattern', 'blocks.9.attn.hook_z', 'blocks.9.hook_attn_out', 'blocks.9.hook_resid_mid', 'blocks.9.ln2.hook_scale', 'blocks.9.ln2.hook_normalized', 'blocks.9.mlp.hook_pre', 'blocks.9.mlp.hook_post', 'blocks.9.hook_mlp_out', 'blocks.9.hook_resid_post', 'blocks.10.hook_resid_pre', 'blocks.10.ln1.hook_scale', 'blocks.10.ln1.hook_normalized', 'blocks.10.attn.hook_q', 'blocks.10.attn.hook_k', 'blocks.10.attn.hook_v', 'blocks.10.attn.hook_attn_scores', 'blocks.10.attn.hook_pattern', 'blocks.10.attn.hook_z', 'blocks.10.hook_attn_out', 'blocks.10.hook_resid_mid', 'blocks.10.ln2.hook_scale', 'blocks.10.ln2.hook_normalized', 'blocks.10.mlp.hook_pre', 'blocks.10.mlp.hook_post', 'blocks.10.hook_mlp_out', 'blocks.10.hook_resid_post', 'blocks.11.hook_resid_pre', 'blocks.11.ln1.hook_scale', 'blocks.11.ln1.hook_normalized', 'blocks.11.attn.hook_q', 'blocks.11.attn.hook_k', 'blocks.11.attn.hook_v', 'blocks.11.attn.hook_attn_scores', 'blocks.11.attn.hook_pattern', 'blocks.11.attn.hook_z', 'blocks.11.hook_attn_out', 'blocks.11.hook_resid_mid', 'blocks.11.ln2.hook_scale', 'blocks.11.ln2.hook_normalized', 'blocks.11.mlp.hook_pre', 'blocks.11.mlp.hook_post', 'blocks.11.hook_mlp_out', 'blocks.11.hook_resid_post', 'ln_final.hook_scale', 'ln_final.hook_normalized']\n"
          ]
        }
      ],
      "source": [
        "logits, cache = gpt2.run_with_cache(tokens, remove_batch_dim=True)\n",
        "print(cache)"
      ]
    },
    {
      "cell_type": "code",
      "execution_count": 60,
      "metadata": {},
      "outputs": [],
      "source": [
        "# Logits to probabilities\n",
        "\n",
        "probs = logits.softmax(-1).squeeze()"
      ]
    },
    {
      "cell_type": "code",
      "execution_count": 61,
      "metadata": {},
      "outputs": [
        {
          "data": {
            "text/plain": [
              "tensor([0.0080, 0.1840, 0.3330, 0.0130, 0.4980, 0.0000, 0.0000, 0.0000, 0.0000,\n",
              "        0.1410, 0.0040, 0.0090, 0.0150, 0.0260, 0.9140, 0.9800, 0.9960, 0.0090],\n",
              "       device='cuda:0')"
            ]
          },
          "execution_count": 61,
          "metadata": {},
          "output_type": "execute_result"
        }
      ],
      "source": [
        "# How well did it predict the actual tokens?\n",
        "x = probs.squeeze()[:, tokens.squeeze()]\n",
        "predictions = x.diag(1)\n",
        "t.round(predictions, decimals=3)"
      ]
    },
    {
      "cell_type": "code",
      "execution_count": 62,
      "metadata": {},
      "outputs": [
        {
          "data": {
            "application/vnd.plotly.v1+json": {
              "config": {
                "plotlyServerURL": "https://plot.ly"
              },
              "data": [
                {
                  "hovertemplate": "<b>%{hovertext}</b><br><br>variable=0<br>index=%{x}<br>value=%{y}<extra></extra>",
                  "hovertext": [
                    "This",
                    " is",
                    " a",
                    " story",
                    " about",
                    " Qu",
                    "om",
                    "atar",
                    "us",
                    ".",
                    " When",
                    " one",
                    " day",
                    " Qu",
                    "om",
                    "atar",
                    "us",
                    " decided"
                  ],
                  "legendgroup": "0",
                  "line": {
                    "color": "#636efa",
                    "dash": "solid"
                  },
                  "marker": {
                    "symbol": "circle"
                  },
                  "mode": "lines",
                  "name": "0",
                  "orientation": "v",
                  "showlegend": true,
                  "type": "scatter",
                  "x": [
                    0,
                    1,
                    2,
                    3,
                    4,
                    5,
                    6,
                    7,
                    8,
                    9,
                    10,
                    11,
                    12,
                    13,
                    14,
                    15,
                    16,
                    17
                  ],
                  "xaxis": "x",
                  "y": [
                    0.007765687070786953,
                    0.18361252546310425,
                    0.3325962424278259,
                    0.013270290568470955,
                    0.4982103705406189,
                    0.00004159420132054947,
                    0.0003216722689103335,
                    0.000018132705008611083,
                    0.00010035531158791855,
                    0.14091195166110992,
                    0.004079177975654602,
                    0.008815865963697433,
                    0.015035108663141727,
                    0.025590619072318077,
                    0.9137449264526367,
                    0.9802748560905457,
                    0.9962822794914246,
                    0.009395701810717583
                  ],
                  "yaxis": "y"
                }
              ],
              "layout": {
                "legend": {
                  "title": {
                    "text": "variable"
                  },
                  "tracegroupgap": 0
                },
                "margin": {
                  "t": 60
                },
                "template": {
                  "data": {
                    "bar": [
                      {
                        "error_x": {
                          "color": "#2a3f5f"
                        },
                        "error_y": {
                          "color": "#2a3f5f"
                        },
                        "marker": {
                          "line": {
                            "color": "#E5ECF6",
                            "width": 0.5
                          },
                          "pattern": {
                            "fillmode": "overlay",
                            "size": 10,
                            "solidity": 0.2
                          }
                        },
                        "type": "bar"
                      }
                    ],
                    "barpolar": [
                      {
                        "marker": {
                          "line": {
                            "color": "#E5ECF6",
                            "width": 0.5
                          },
                          "pattern": {
                            "fillmode": "overlay",
                            "size": 10,
                            "solidity": 0.2
                          }
                        },
                        "type": "barpolar"
                      }
                    ],
                    "carpet": [
                      {
                        "aaxis": {
                          "endlinecolor": "#2a3f5f",
                          "gridcolor": "white",
                          "linecolor": "white",
                          "minorgridcolor": "white",
                          "startlinecolor": "#2a3f5f"
                        },
                        "baxis": {
                          "endlinecolor": "#2a3f5f",
                          "gridcolor": "white",
                          "linecolor": "white",
                          "minorgridcolor": "white",
                          "startlinecolor": "#2a3f5f"
                        },
                        "type": "carpet"
                      }
                    ],
                    "choropleth": [
                      {
                        "colorbar": {
                          "outlinewidth": 0,
                          "ticks": ""
                        },
                        "type": "choropleth"
                      }
                    ],
                    "contour": [
                      {
                        "colorbar": {
                          "outlinewidth": 0,
                          "ticks": ""
                        },
                        "colorscale": [
                          [
                            0,
                            "#0d0887"
                          ],
                          [
                            0.1111111111111111,
                            "#46039f"
                          ],
                          [
                            0.2222222222222222,
                            "#7201a8"
                          ],
                          [
                            0.3333333333333333,
                            "#9c179e"
                          ],
                          [
                            0.4444444444444444,
                            "#bd3786"
                          ],
                          [
                            0.5555555555555556,
                            "#d8576b"
                          ],
                          [
                            0.6666666666666666,
                            "#ed7953"
                          ],
                          [
                            0.7777777777777778,
                            "#fb9f3a"
                          ],
                          [
                            0.8888888888888888,
                            "#fdca26"
                          ],
                          [
                            1,
                            "#f0f921"
                          ]
                        ],
                        "type": "contour"
                      }
                    ],
                    "contourcarpet": [
                      {
                        "colorbar": {
                          "outlinewidth": 0,
                          "ticks": ""
                        },
                        "type": "contourcarpet"
                      }
                    ],
                    "heatmap": [
                      {
                        "colorbar": {
                          "outlinewidth": 0,
                          "ticks": ""
                        },
                        "colorscale": [
                          [
                            0,
                            "#0d0887"
                          ],
                          [
                            0.1111111111111111,
                            "#46039f"
                          ],
                          [
                            0.2222222222222222,
                            "#7201a8"
                          ],
                          [
                            0.3333333333333333,
                            "#9c179e"
                          ],
                          [
                            0.4444444444444444,
                            "#bd3786"
                          ],
                          [
                            0.5555555555555556,
                            "#d8576b"
                          ],
                          [
                            0.6666666666666666,
                            "#ed7953"
                          ],
                          [
                            0.7777777777777778,
                            "#fb9f3a"
                          ],
                          [
                            0.8888888888888888,
                            "#fdca26"
                          ],
                          [
                            1,
                            "#f0f921"
                          ]
                        ],
                        "type": "heatmap"
                      }
                    ],
                    "heatmapgl": [
                      {
                        "colorbar": {
                          "outlinewidth": 0,
                          "ticks": ""
                        },
                        "colorscale": [
                          [
                            0,
                            "#0d0887"
                          ],
                          [
                            0.1111111111111111,
                            "#46039f"
                          ],
                          [
                            0.2222222222222222,
                            "#7201a8"
                          ],
                          [
                            0.3333333333333333,
                            "#9c179e"
                          ],
                          [
                            0.4444444444444444,
                            "#bd3786"
                          ],
                          [
                            0.5555555555555556,
                            "#d8576b"
                          ],
                          [
                            0.6666666666666666,
                            "#ed7953"
                          ],
                          [
                            0.7777777777777778,
                            "#fb9f3a"
                          ],
                          [
                            0.8888888888888888,
                            "#fdca26"
                          ],
                          [
                            1,
                            "#f0f921"
                          ]
                        ],
                        "type": "heatmapgl"
                      }
                    ],
                    "histogram": [
                      {
                        "marker": {
                          "pattern": {
                            "fillmode": "overlay",
                            "size": 10,
                            "solidity": 0.2
                          }
                        },
                        "type": "histogram"
                      }
                    ],
                    "histogram2d": [
                      {
                        "colorbar": {
                          "outlinewidth": 0,
                          "ticks": ""
                        },
                        "colorscale": [
                          [
                            0,
                            "#0d0887"
                          ],
                          [
                            0.1111111111111111,
                            "#46039f"
                          ],
                          [
                            0.2222222222222222,
                            "#7201a8"
                          ],
                          [
                            0.3333333333333333,
                            "#9c179e"
                          ],
                          [
                            0.4444444444444444,
                            "#bd3786"
                          ],
                          [
                            0.5555555555555556,
                            "#d8576b"
                          ],
                          [
                            0.6666666666666666,
                            "#ed7953"
                          ],
                          [
                            0.7777777777777778,
                            "#fb9f3a"
                          ],
                          [
                            0.8888888888888888,
                            "#fdca26"
                          ],
                          [
                            1,
                            "#f0f921"
                          ]
                        ],
                        "type": "histogram2d"
                      }
                    ],
                    "histogram2dcontour": [
                      {
                        "colorbar": {
                          "outlinewidth": 0,
                          "ticks": ""
                        },
                        "colorscale": [
                          [
                            0,
                            "#0d0887"
                          ],
                          [
                            0.1111111111111111,
                            "#46039f"
                          ],
                          [
                            0.2222222222222222,
                            "#7201a8"
                          ],
                          [
                            0.3333333333333333,
                            "#9c179e"
                          ],
                          [
                            0.4444444444444444,
                            "#bd3786"
                          ],
                          [
                            0.5555555555555556,
                            "#d8576b"
                          ],
                          [
                            0.6666666666666666,
                            "#ed7953"
                          ],
                          [
                            0.7777777777777778,
                            "#fb9f3a"
                          ],
                          [
                            0.8888888888888888,
                            "#fdca26"
                          ],
                          [
                            1,
                            "#f0f921"
                          ]
                        ],
                        "type": "histogram2dcontour"
                      }
                    ],
                    "mesh3d": [
                      {
                        "colorbar": {
                          "outlinewidth": 0,
                          "ticks": ""
                        },
                        "type": "mesh3d"
                      }
                    ],
                    "parcoords": [
                      {
                        "line": {
                          "colorbar": {
                            "outlinewidth": 0,
                            "ticks": ""
                          }
                        },
                        "type": "parcoords"
                      }
                    ],
                    "pie": [
                      {
                        "automargin": true,
                        "type": "pie"
                      }
                    ],
                    "scatter": [
                      {
                        "fillpattern": {
                          "fillmode": "overlay",
                          "size": 10,
                          "solidity": 0.2
                        },
                        "type": "scatter"
                      }
                    ],
                    "scatter3d": [
                      {
                        "line": {
                          "colorbar": {
                            "outlinewidth": 0,
                            "ticks": ""
                          }
                        },
                        "marker": {
                          "colorbar": {
                            "outlinewidth": 0,
                            "ticks": ""
                          }
                        },
                        "type": "scatter3d"
                      }
                    ],
                    "scattercarpet": [
                      {
                        "marker": {
                          "colorbar": {
                            "outlinewidth": 0,
                            "ticks": ""
                          }
                        },
                        "type": "scattercarpet"
                      }
                    ],
                    "scattergeo": [
                      {
                        "marker": {
                          "colorbar": {
                            "outlinewidth": 0,
                            "ticks": ""
                          }
                        },
                        "type": "scattergeo"
                      }
                    ],
                    "scattergl": [
                      {
                        "marker": {
                          "colorbar": {
                            "outlinewidth": 0,
                            "ticks": ""
                          }
                        },
                        "type": "scattergl"
                      }
                    ],
                    "scattermapbox": [
                      {
                        "marker": {
                          "colorbar": {
                            "outlinewidth": 0,
                            "ticks": ""
                          }
                        },
                        "type": "scattermapbox"
                      }
                    ],
                    "scatterpolar": [
                      {
                        "marker": {
                          "colorbar": {
                            "outlinewidth": 0,
                            "ticks": ""
                          }
                        },
                        "type": "scatterpolar"
                      }
                    ],
                    "scatterpolargl": [
                      {
                        "marker": {
                          "colorbar": {
                            "outlinewidth": 0,
                            "ticks": ""
                          }
                        },
                        "type": "scatterpolargl"
                      }
                    ],
                    "scatterternary": [
                      {
                        "marker": {
                          "colorbar": {
                            "outlinewidth": 0,
                            "ticks": ""
                          }
                        },
                        "type": "scatterternary"
                      }
                    ],
                    "surface": [
                      {
                        "colorbar": {
                          "outlinewidth": 0,
                          "ticks": ""
                        },
                        "colorscale": [
                          [
                            0,
                            "#0d0887"
                          ],
                          [
                            0.1111111111111111,
                            "#46039f"
                          ],
                          [
                            0.2222222222222222,
                            "#7201a8"
                          ],
                          [
                            0.3333333333333333,
                            "#9c179e"
                          ],
                          [
                            0.4444444444444444,
                            "#bd3786"
                          ],
                          [
                            0.5555555555555556,
                            "#d8576b"
                          ],
                          [
                            0.6666666666666666,
                            "#ed7953"
                          ],
                          [
                            0.7777777777777778,
                            "#fb9f3a"
                          ],
                          [
                            0.8888888888888888,
                            "#fdca26"
                          ],
                          [
                            1,
                            "#f0f921"
                          ]
                        ],
                        "type": "surface"
                      }
                    ],
                    "table": [
                      {
                        "cells": {
                          "fill": {
                            "color": "#EBF0F8"
                          },
                          "line": {
                            "color": "white"
                          }
                        },
                        "header": {
                          "fill": {
                            "color": "#C8D4E3"
                          },
                          "line": {
                            "color": "white"
                          }
                        },
                        "type": "table"
                      }
                    ]
                  },
                  "layout": {
                    "annotationdefaults": {
                      "arrowcolor": "#2a3f5f",
                      "arrowhead": 0,
                      "arrowwidth": 1
                    },
                    "autotypenumbers": "strict",
                    "coloraxis": {
                      "colorbar": {
                        "outlinewidth": 0,
                        "ticks": ""
                      }
                    },
                    "colorscale": {
                      "diverging": [
                        [
                          0,
                          "#8e0152"
                        ],
                        [
                          0.1,
                          "#c51b7d"
                        ],
                        [
                          0.2,
                          "#de77ae"
                        ],
                        [
                          0.3,
                          "#f1b6da"
                        ],
                        [
                          0.4,
                          "#fde0ef"
                        ],
                        [
                          0.5,
                          "#f7f7f7"
                        ],
                        [
                          0.6,
                          "#e6f5d0"
                        ],
                        [
                          0.7,
                          "#b8e186"
                        ],
                        [
                          0.8,
                          "#7fbc41"
                        ],
                        [
                          0.9,
                          "#4d9221"
                        ],
                        [
                          1,
                          "#276419"
                        ]
                      ],
                      "sequential": [
                        [
                          0,
                          "#0d0887"
                        ],
                        [
                          0.1111111111111111,
                          "#46039f"
                        ],
                        [
                          0.2222222222222222,
                          "#7201a8"
                        ],
                        [
                          0.3333333333333333,
                          "#9c179e"
                        ],
                        [
                          0.4444444444444444,
                          "#bd3786"
                        ],
                        [
                          0.5555555555555556,
                          "#d8576b"
                        ],
                        [
                          0.6666666666666666,
                          "#ed7953"
                        ],
                        [
                          0.7777777777777778,
                          "#fb9f3a"
                        ],
                        [
                          0.8888888888888888,
                          "#fdca26"
                        ],
                        [
                          1,
                          "#f0f921"
                        ]
                      ],
                      "sequentialminus": [
                        [
                          0,
                          "#0d0887"
                        ],
                        [
                          0.1111111111111111,
                          "#46039f"
                        ],
                        [
                          0.2222222222222222,
                          "#7201a8"
                        ],
                        [
                          0.3333333333333333,
                          "#9c179e"
                        ],
                        [
                          0.4444444444444444,
                          "#bd3786"
                        ],
                        [
                          0.5555555555555556,
                          "#d8576b"
                        ],
                        [
                          0.6666666666666666,
                          "#ed7953"
                        ],
                        [
                          0.7777777777777778,
                          "#fb9f3a"
                        ],
                        [
                          0.8888888888888888,
                          "#fdca26"
                        ],
                        [
                          1,
                          "#f0f921"
                        ]
                      ]
                    },
                    "colorway": [
                      "#636efa",
                      "#EF553B",
                      "#00cc96",
                      "#ab63fa",
                      "#FFA15A",
                      "#19d3f3",
                      "#FF6692",
                      "#B6E880",
                      "#FF97FF",
                      "#FECB52"
                    ],
                    "font": {
                      "color": "#2a3f5f"
                    },
                    "geo": {
                      "bgcolor": "white",
                      "lakecolor": "white",
                      "landcolor": "#E5ECF6",
                      "showlakes": true,
                      "showland": true,
                      "subunitcolor": "white"
                    },
                    "hoverlabel": {
                      "align": "left"
                    },
                    "hovermode": "closest",
                    "mapbox": {
                      "style": "light"
                    },
                    "paper_bgcolor": "white",
                    "plot_bgcolor": "#E5ECF6",
                    "polar": {
                      "angularaxis": {
                        "gridcolor": "white",
                        "linecolor": "white",
                        "ticks": ""
                      },
                      "bgcolor": "#E5ECF6",
                      "radialaxis": {
                        "gridcolor": "white",
                        "linecolor": "white",
                        "ticks": ""
                      }
                    },
                    "scene": {
                      "xaxis": {
                        "backgroundcolor": "#E5ECF6",
                        "gridcolor": "white",
                        "gridwidth": 2,
                        "linecolor": "white",
                        "showbackground": true,
                        "ticks": "",
                        "zerolinecolor": "white"
                      },
                      "yaxis": {
                        "backgroundcolor": "#E5ECF6",
                        "gridcolor": "white",
                        "gridwidth": 2,
                        "linecolor": "white",
                        "showbackground": true,
                        "ticks": "",
                        "zerolinecolor": "white"
                      },
                      "zaxis": {
                        "backgroundcolor": "#E5ECF6",
                        "gridcolor": "white",
                        "gridwidth": 2,
                        "linecolor": "white",
                        "showbackground": true,
                        "ticks": "",
                        "zerolinecolor": "white"
                      }
                    },
                    "shapedefaults": {
                      "line": {
                        "color": "#2a3f5f"
                      }
                    },
                    "ternary": {
                      "aaxis": {
                        "gridcolor": "white",
                        "linecolor": "white",
                        "ticks": ""
                      },
                      "baxis": {
                        "gridcolor": "white",
                        "linecolor": "white",
                        "ticks": ""
                      },
                      "bgcolor": "#E5ECF6",
                      "caxis": {
                        "gridcolor": "white",
                        "linecolor": "white",
                        "ticks": ""
                      }
                    },
                    "title": {
                      "x": 0.05
                    },
                    "xaxis": {
                      "automargin": true,
                      "gridcolor": "white",
                      "linecolor": "white",
                      "ticks": "",
                      "title": {
                        "standoff": 15
                      },
                      "zerolinecolor": "white",
                      "zerolinewidth": 2
                    },
                    "yaxis": {
                      "automargin": true,
                      "gridcolor": "white",
                      "linecolor": "white",
                      "ticks": "",
                      "title": {
                        "standoff": 15
                      },
                      "zerolinecolor": "white",
                      "zerolinewidth": 2
                    }
                  }
                },
                "xaxis": {
                  "anchor": "y",
                  "domain": [
                    0,
                    1
                  ],
                  "title": {
                    "text": "index"
                  }
                },
                "yaxis": {
                  "anchor": "x",
                  "domain": [
                    0,
                    1
                  ],
                  "title": {
                    "text": "value"
                  }
                }
              }
            }
          },
          "metadata": {},
          "output_type": "display_data"
        }
      ],
      "source": [
        "# Plot it! Which tokens did it do well on? Which poorly? Why?\n",
        "px.line(predictions.cpu(), hover_name=str_tokens[1:])"
      ]
    },
    {
      "cell_type": "markdown",
      "metadata": {},
      "source": [
        "## Attention"
      ]
    },
    {
      "cell_type": "code",
      "execution_count": 63,
      "metadata": {},
      "outputs": [
        {
          "data": {
            "text/plain": [
              "torch.Size([12, 19, 19])"
            ]
          },
          "execution_count": 63,
          "metadata": {},
          "output_type": "execute_result"
        }
      ],
      "source": [
        "cache[\"pattern\", 0, \"attn\"].shape"
      ]
    },
    {
      "cell_type": "code",
      "execution_count": 64,
      "metadata": {},
      "outputs": [
        {
          "data": {
            "text/html": [
              "<div id=\"circuits-vis-04c9f6bf-6ed1\" style=\"margin: 15px 0;\"/>\n",
              "    <script crossorigin type=\"module\">\n",
              "    import { render, AttentionPattern } from \"https://unpkg.com/circuitsvis@1.41.0/dist/cdn/esm.js\";\n",
              "    render(\n",
              "      \"circuits-vis-04c9f6bf-6ed1\",\n",
              "      AttentionPattern,\n",
              "      {\"tokens\": [\"<|endoftext|>\", \"This\", \" is\", \" a\", \" story\", \" about\", \" Qu\", \"om\", \"atar\", \"us\", \".\", \" When\", \" one\", \" day\", \" Qu\", \"om\", \"atar\", \"us\", \" decided\"], \"attention\": [[1.0, 0.0, 0.0, 0.0, 0.0, 0.0, 0.0, 0.0, 0.0, 0.0, 0.0, 0.0, 0.0, 0.0, 0.0, 0.0, 0.0, 0.0, 0.0], [0.3265746533870697, 0.6734253764152527, 0.0, 0.0, 0.0, 0.0, 0.0, 0.0, 0.0, 0.0, 0.0, 0.0, 0.0, 0.0, 0.0, 0.0, 0.0, 0.0, 0.0], [0.2780389189720154, 0.004687132779508829, 0.7172738909721375, 0.0, 0.0, 0.0, 0.0, 0.0, 0.0, 0.0, 0.0, 0.0, 0.0, 0.0, 0.0, 0.0, 0.0, 0.0, 0.0], [0.2634090483188629, 0.047037020325660706, 0.08585897088050842, 0.6036949157714844, 0.0, 0.0, 0.0, 0.0, 0.0, 0.0, 0.0, 0.0, 0.0, 0.0, 0.0, 0.0, 0.0, 0.0, 0.0], [0.052918680012226105, 0.0002507688186597079, 2.591986776678823e-05, 1.4333871149574406e-05, 0.9467902779579163, 0.0, 0.0, 0.0, 0.0, 0.0, 0.0, 0.0, 0.0, 0.0, 0.0, 0.0, 0.0, 0.0, 0.0], [0.07391363382339478, 0.0019347770139575005, 0.0018692186567932367, 0.003031729022040963, 0.0035935593768954277, 0.9156570434570312, 0.0, 0.0, 0.0, 0.0, 0.0, 0.0, 0.0, 0.0, 0.0, 0.0, 0.0, 0.0, 0.0], [0.04230703413486481, 6.600035703741014e-06, 5.842212885909248e-06, 2.246369376734947e-06, 6.351682532113045e-05, 6.647173904639203e-07, 0.9576141238212585, 0.0, 0.0, 0.0, 0.0, 0.0, 0.0, 0.0, 0.0, 0.0, 0.0, 0.0, 0.0], [0.0206429585814476, 0.00014371168799698353, 8.020357199711725e-06, 8.985038220998831e-06, 5.115984458825551e-05, 7.789507435518317e-06, 0.000325893925037235, 0.9788115620613098, 0.0, 0.0, 0.0, 0.0, 0.0, 0.0, 0.0, 0.0, 0.0, 0.0, 0.0], [0.000631568138487637, 5.8020259530167095e-06, 6.165752211018116e-07, 1.7416448372387094e-07, 7.064399483169836e-07, 7.02842783084634e-07, 4.637753590941429e-06, 6.002414465910988e-06, 0.9993498921394348, 0.0, 0.0, 0.0, 0.0, 0.0, 0.0, 0.0, 0.0, 0.0, 0.0], [0.019654270261526108, 0.00023803053773008287, 4.5659777242690325e-05, 4.616998921846971e-05, 0.0005037199007347226, 3.822494181804359e-05, 4.512145824264735e-05, 0.00047819266910664737, 3.0806040740571916e-05, 0.9789197444915771, 0.0, 0.0, 0.0, 0.0, 0.0, 0.0, 0.0, 0.0, 0.0], [0.17263254523277283, 0.24657517671585083, 0.06896965205669403, 0.11008747667074203, 0.037054549902677536, 0.053889766335487366, 0.01340477541089058, 0.020665129646658897, 0.006377100478857756, 0.024987105280160904, 0.2453567534685135, 0.0, 0.0, 0.0, 0.0, 0.0, 0.0, 0.0, 0.0], [0.051835134625434875, 0.009634863585233688, 0.0001324746262980625, 0.00019998342031612992, 7.337142596952617e-05, 0.0003093297709710896, 0.0006302754627540708, 0.00013074085291009396, 2.6355261070420966e-05, 4.4999938836554065e-05, 2.2128981072455645e-05, 0.9369603395462036, 0.0, 0.0, 0.0, 0.0, 0.0, 0.0, 0.0], [0.046513013541698456, 0.004981568548828363, 0.0027144725900143385, 0.028592463582754135, 0.0039606839418411255, 0.0006405431195162237, 0.002951687201857567, 0.0020116493105888367, 0.0001940533402375877, 0.0005175258847884834, 0.0009992397390305996, 0.00020881298405583948, 0.9057142734527588, 0.0, 0.0, 0.0, 0.0, 0.0, 0.0], [0.011992690153419971, 0.0001612581982044503, 2.2960921342018992e-05, 4.938325582770631e-05, 0.0012957652797922492, 5.631867679767311e-06, 4.180755058769137e-05, 3.9423197449650615e-05, 5.16605678058113e-06, 4.86250537505839e-05, 1.7490969185018912e-05, 1.3159796253603417e-05, 0.00028230607858859, 0.9860243201255798, 0.0, 0.0, 0.0, 0.0, 0.0], [0.010140488855540752, 3.2461787213833304e-06, 2.7857383884111186e-06, 7.81866617671767e-07, 2.373396091570612e-05, 2.4488548433510005e-07, 0.559515655040741, 2.0764458895428106e-05, 2.053524212897173e-06, 1.2276265124455676e-06, 3.7955709331072285e-07, 1.1549741429917049e-06, 3.772744605612388e-07, 1.2757098488691554e-07, 0.43028703331947327, 0.0, 0.0, 0.0, 0.0], [0.004807064775377512, 6.724452396156266e-05, 3.556369847501628e-06, 3.209981514373794e-06, 1.676705142017454e-05, 2.829774757628911e-06, 0.00012583291390910745, 0.5743189454078674, 3.57008320861496e-05, 4.087066918145865e-05, 6.753655270586023e-07, 6.408101853594417e-07, 1.8343164356338093e-06, 1.8803392549671116e-06, 6.183687946759164e-05, 0.42051106691360474, 0.0, 0.0, 0.0], [0.00019687363237608224, 3.19803962156584e-06, 3.275019935244927e-07, 7.795668466314964e-08, 2.883584784285631e-07, 3.183128569617111e-07, 2.0802362996619195e-06, 3.0316077754832804e-06, 0.5799012780189514, 2.9823777936144324e-07, 1.987100928246832e-09, 2.488337536021845e-08, 2.3061870635388004e-08, 7.216889308381269e-09, 8.31193801786867e-07, 1.5044561223476194e-06, 0.4198898375034332, 0.0, 0.0], [0.005818986799567938, 0.0001364358322462067, 2.4956099878181703e-05, 2.1328338334569708e-05, 0.00021707425185013562, 1.799910023692064e-05, 1.893180888146162e-05, 0.00024199552717618644, 1.2626276657101698e-05, 0.5817527770996094, 3.674336539916112e-06, 8.075873552115809e-07, 5.276567208056804e-06, 1.0927619769063313e-05, 7.915847163530998e-06, 0.00012223860539961606, 7.050578915368533e-06, 0.4115790128707886, 0.0], [0.01011654268950224, 0.0001945824478752911, 7.316683877434116e-06, 9.663348464528099e-06, 3.4948250686284155e-05, 2.4743620087974705e-05, 0.0002638516598381102, 8.420299127465114e-05, 9.221372602041811e-05, 5.480708568939008e-05, 1.8545329112384934e-06, 7.604651273140917e-06, 1.2130625691497698e-05, 3.002909807037213e-06, 0.00013548284186981618, 4.6897006541257724e-05, 5.606368722510524e-05, 3.283096521045081e-05, 0.988821268081665]], \"maskUpperTri\": true}\n",
              "    )\n",
              "    </script>"
            ],
            "text/plain": [
              "<circuitsvis.utils.render.RenderedHTML at 0x7f78213732b0>"
            ]
          },
          "execution_count": 64,
          "metadata": {},
          "output_type": "execute_result"
        }
      ],
      "source": [
        "# Look at attention patterns\n",
        "# cv.attention.attention_pattern(s)\n",
        "\n",
        "# Compare block 0 head 5 to block 5 head 5!\n",
        "cv.attention.attention_pattern(cache[\"pattern\", 0, \"attn\"][5, :, :], tokens=str_tokens)"
      ]
    },
    {
      "cell_type": "code",
      "execution_count": 65,
      "metadata": {},
      "outputs": [
        {
          "data": {
            "text/html": [
              "<div id=\"circuits-vis-020d2ac1-e170\" style=\"margin: 15px 0;\"/>\n",
              "    <script crossorigin type=\"module\">\n",
              "    import { render, AttentionPatterns } from \"https://unpkg.com/circuitsvis@1.41.0/dist/cdn/esm.js\";\n",
              "    render(\n",
              "      \"circuits-vis-020d2ac1-e170\",\n",
              "      AttentionPatterns,\n",
              "      {\"tokens\": [\"<|endoftext|>\", \"This\", \" is\", \" a\", \" story\", \" about\", \" Qu\", \"om\", \"atar\", \"us\", \".\", \" When\", \" one\", \" day\", \" Qu\", \"om\", \"atar\", \"us\", \" decided\"], \"attention\": [[[1.0, 0.0, 0.0, 0.0, 0.0, 0.0, 0.0, 0.0, 0.0, 0.0, 0.0, 0.0, 0.0, 0.0, 0.0, 0.0, 0.0, 0.0, 0.0], [0.9965106844902039, 0.0034892752300947905, 0.0, 0.0, 0.0, 0.0, 0.0, 0.0, 0.0, 0.0, 0.0, 0.0, 0.0, 0.0, 0.0, 0.0, 0.0, 0.0, 0.0], [0.9946860074996948, 0.0033542760647833347, 0.00195967685431242, 0.0, 0.0, 0.0, 0.0, 0.0, 0.0, 0.0, 0.0, 0.0, 0.0, 0.0, 0.0, 0.0, 0.0, 0.0, 0.0], [0.9899774789810181, 0.0008669925155118108, 0.0010365118505433202, 0.00811898335814476, 0.0, 0.0, 0.0, 0.0, 0.0, 0.0, 0.0, 0.0, 0.0, 0.0, 0.0, 0.0, 0.0, 0.0, 0.0], [0.9890521168708801, 0.0002617276331875473, 6.550464604515582e-05, 0.0015243104426190257, 0.009096303023397923, 0.0, 0.0, 0.0, 0.0, 0.0, 0.0, 0.0, 0.0, 0.0, 0.0, 0.0, 0.0, 0.0, 0.0], [0.9761185050010681, 0.00014784997620154172, 0.00014471788017544895, 0.0014572646468877792, 0.008729598484933376, 0.01340207178145647, 0.0, 0.0, 0.0, 0.0, 0.0, 0.0, 0.0, 0.0, 0.0, 0.0, 0.0, 0.0, 0.0], [0.991208553314209, 0.0013033085269853473, 0.00342071452178061, 0.0006164824590086937, 0.0004298306303098798, 0.0007576137431897223, 0.002263410482555628, 0.0, 0.0, 0.0, 0.0, 0.0, 0.0, 0.0, 0.0, 0.0, 0.0, 0.0, 0.0], [0.9869916439056396, 0.0005137205007486045, 0.0012035606196150184, 0.0009233715245500207, 0.0006232924060896039, 0.0021611067932099104, 0.002223784103989601, 0.005359511356800795, 0.0, 0.0, 0.0, 0.0, 0.0, 0.0, 0.0, 0.0, 0.0, 0.0, 0.0], [0.9907174706459045, 0.0004492074076551944, 0.0007316857809200883, 0.0005151767982169986, 0.0006680104997940361, 0.0009389370097778738, 0.002612457610666752, 0.0004962582606822252, 0.00287070544436574, 0.0, 0.0, 0.0, 0.0, 0.0, 0.0, 0.0, 0.0, 0.0, 0.0], [0.9454972743988037, 0.00018402170098852366, 0.0013897266471758485, 0.0005727835232391953, 0.00017027975991368294, 0.00021683552768081427, 0.0012108123628422618, 0.00046514198766089976, 0.004567558411508799, 0.04572559893131256, 0.0, 0.0, 0.0, 0.0, 0.0, 0.0, 0.0, 0.0, 0.0], [0.9903907775878906, 0.0004604095593094826, 0.0006889809155836701, 0.00034252519253641367, 0.00012879857968073338, 0.0006108895177021623, 0.002438352908939123, 5.333247463568114e-05, 0.00011673494009301066, 0.0015689098509028554, 0.003200273495167494, 0.0, 0.0, 0.0, 0.0, 0.0, 0.0, 0.0, 0.0], [0.9430046081542969, 0.0008855924243107438, 0.004241995047777891, 0.0020809946581721306, 0.000595098128542304, 0.0004458983603399247, 0.025110097602009773, 0.001881118630990386, 0.000951804337091744, 0.0018564654747024179, 0.0026801631320267916, 0.01626609079539776, 0.0, 0.0, 0.0, 0.0, 0.0, 0.0, 0.0], [0.966313362121582, 0.001027859514579177, 0.0004895596648566425, 0.00019538335618562996, 0.00028701420524157584, 0.0020839557982981205, 0.005166958086192608, 0.0006312982295639813, 0.004527736455202103, 0.005485719069838524, 0.0010716855758801103, 0.003337217727676034, 0.00938217993825674, 0.0, 0.0, 0.0, 0.0, 0.0, 0.0], [0.9916389584541321, 0.00019354488176759332, 2.629965456435457e-05, 6.560129986610264e-05, 1.010283813229762e-05, 0.00028675279463641346, 0.004229394719004631, 0.0001742910098982975, 0.0006871839868836105, 0.00011145127064082772, 1.2214552953082602e-05, 0.00013368937652558088, 0.0017565019661560655, 0.0006739877280779183, 0.0, 0.0, 0.0, 0.0, 0.0], [0.9221159815788269, 0.0012221505166962743, 0.0021656008902937174, 0.0003269172157160938, 0.00010475511226104572, 4.899950363324024e-05, 0.0009199740015901625, 0.003698845859616995, 0.015627428889274597, 0.028575139120221138, 0.006600581109523773, 0.0019280060660094023, 0.012585777789354324, 0.0016049421392381191, 0.0024749846197664738, 0.0, 0.0, 0.0, 0.0], [0.8685652017593384, 0.0008304066141135991, 0.0015206251991912723, 0.001010322361253202, 0.00035828788531944156, 0.0004132886533625424, 0.0020055866334587336, 0.001297411392442882, 0.028362026438117027, 0.0544937327504158, 0.011790397576987743, 0.002720697084441781, 0.009408452548086643, 0.000901039398740977, 0.0025907850358635187, 0.013731659390032291, 0.0, 0.0, 0.0], [0.8711439967155457, 0.0006497843423858285, 0.0010123822139576077, 0.0006912790122441947, 0.00036071616341359913, 0.00021268002456054091, 0.003941041883081198, 0.00014133751392364502, 0.003209491027519107, 0.047524917870759964, 0.03392103686928749, 0.005463150795549154, 0.006390037480741739, 0.001009134342893958, 0.0022785759065300226, 0.0009131926344707608, 0.021137142553925514, 0.0, 0.0], [0.7768487930297852, 0.000458693626569584, 0.0011454203631728888, 0.00041951247840188444, 9.784381109056994e-05, 5.8394398365635425e-05, 0.0018756705103442073, 0.00024053591187112033, 0.0031365142203867435, 0.023875057697296143, 0.06583259254693985, 0.005572461057454348, 0.00424577621743083, 0.0006615243037231266, 0.0019939159974455833, 0.0012392614735290408, 0.019251428544521332, 0.0930466279387474, 0.0], [0.9817580580711365, 0.00039821703103370965, 0.00010751430090749636, 3.0834926292300224e-05, 1.6094165403046645e-05, 6.246411794563755e-05, 0.0013266504975035787, 3.253099202993326e-05, 0.0008456666255369782, 0.0005151282530277967, 0.0002162964374292642, 0.0005019824020564556, 0.0017481253016740084, 0.00015507401258219033, 0.00491213146597147, 7.342418393818662e-05, 0.0010448769899085164, 0.0007989780278876424, 0.005455974489450455]], [[1.0, 0.0, 0.0, 0.0, 0.0, 0.0, 0.0, 0.0, 0.0, 0.0, 0.0, 0.0, 0.0, 0.0, 0.0, 0.0, 0.0, 0.0, 0.0], [0.999674916267395, 0.0003250795416533947, 0.0, 0.0, 0.0, 0.0, 0.0, 0.0, 0.0, 0.0, 0.0, 0.0, 0.0, 0.0, 0.0, 0.0, 0.0, 0.0, 0.0], [0.9997503161430359, 0.00010611010657157749, 0.00014358559565152973, 0.0, 0.0, 0.0, 0.0, 0.0, 0.0, 0.0, 0.0, 0.0, 0.0, 0.0, 0.0, 0.0, 0.0, 0.0, 0.0], [0.997833788394928, 7.656035450054333e-05, 8.380993676837534e-05, 0.002005811547860503, 0.0, 0.0, 0.0, 0.0, 0.0, 0.0, 0.0, 0.0, 0.0, 0.0, 0.0, 0.0, 0.0, 0.0, 0.0], [0.9986279010772705, 4.1449380660196766e-05, 4.06753451898112e-06, 8.439159137196839e-05, 0.001242235885001719, 0.0, 0.0, 0.0, 0.0, 0.0, 0.0, 0.0, 0.0, 0.0, 0.0, 0.0, 0.0, 0.0, 0.0], [0.9989545345306396, 0.00020132167264819145, 5.149867092768545e-07, 3.0404680728679523e-05, 0.00021828578610438854, 0.0005949712358415127, 0.0, 0.0, 0.0, 0.0, 0.0, 0.0, 0.0, 0.0, 0.0, 0.0, 0.0, 0.0, 0.0], [0.9992412328720093, 1.7862961612991057e-05, 3.2930881843640236e-06, 2.2412941689253785e-06, 5.651507990478422e-07, 1.2674628123932052e-05, 0.0007221950800158083, 0.0, 0.0, 0.0, 0.0, 0.0, 0.0, 0.0, 0.0, 0.0, 0.0, 0.0, 0.0], [0.9995482563972473, 7.448707492585527e-06, 6.898828175394556e-10, 1.1074713590630836e-08, 6.854509182474544e-10, 3.9948210428519815e-07, 8.581659494666383e-05, 0.00035807964741252363, 0.0, 0.0, 0.0, 0.0, 0.0, 0.0, 0.0, 0.0, 0.0, 0.0, 0.0], [0.9990894794464111, 2.4459125143039273e-06, 2.427623657652589e-10, 8.388242989099126e-09, 4.276865528396456e-09, 3.203972767096275e-07, 9.611997666070238e-05, 9.808173162539902e-10, 0.0008116905228234828, 0.0, 0.0, 0.0, 0.0, 0.0, 0.0, 0.0, 0.0, 0.0, 0.0], [0.9972134232521057, 1.3911167684454995e-07, 2.8900496579220558e-11, 2.1135728722754266e-09, 6.86430956520212e-09, 1.2474231647630063e-09, 2.9005397664150223e-05, 7.455123215809045e-15, 2.747055987128988e-07, 0.0027571648824959993, 0.0, 0.0, 0.0, 0.0, 0.0, 0.0, 0.0, 0.0, 0.0], [0.9984669089317322, 3.854957685689442e-05, 5.7631705203675665e-06, 2.0102063444937812e-06, 1.134529975388432e-05, 5.685731707671948e-08, 0.0009646379039622843, 3.727169128886487e-10, 1.574727264141984e-07, 2.620977465994656e-05, 0.0004844041250180453, 0.0, 0.0, 0.0, 0.0, 0.0, 0.0, 0.0, 0.0], [0.9963324666023254, 5.6106211559381336e-05, 5.505689387064194e-06, 4.791248784385971e-07, 6.369992320287565e-07, 8.297246978372641e-08, 0.002103150589391589, 5.262063851318999e-08, 6.11594430210971e-07, 1.7047601659214706e-06, 8.67126459525025e-07, 0.001498403842560947, 0.0, 0.0, 0.0, 0.0, 0.0, 0.0, 0.0], [0.9915758967399597, 3.1239993404597044e-05, 7.936476322356611e-06, 3.500341563267284e-07, 5.115136900712969e-06, 2.1403618575277505e-06, 0.00032481495873071253, 3.481928345649976e-08, 2.473409722369979e-06, 8.587385309510864e-06, 8.41961593778251e-07, 0.0001821826008381322, 0.007858356460928917, 0.0, 0.0, 0.0, 0.0, 0.0, 0.0], [0.9988653659820557, 6.6112284002883825e-06, 4.080035864717502e-09, 1.845757147123095e-08, 2.1071489442192615e-08, 6.066795208425901e-07, 0.0003158641920890659, 1.1506239537550922e-11, 1.4220482569271553e-07, 1.4194671393852332e-07, 8.531955586477125e-09, 7.043188816169277e-06, 0.00022084209194872528, 0.0005833865725435317, 0.0, 0.0, 0.0, 0.0, 0.0], [0.7776641249656677, 2.8951964850421064e-05, 8.073199751379434e-06, 7.313131504815829e-07, 1.7226749093879334e-07, 6.039974209670618e-07, 0.00015542004257440567, 0.21911442279815674, 0.002785715041682124, 3.937709152523894e-06, 1.4075927978751679e-08, 6.502445557998726e-06, 4.183687997283414e-05, 2.1237516193650663e-05, 0.00016832615074235946, 0.0, 0.0, 0.0, 0.0], [0.2806583642959595, 2.6645291654858738e-05, 6.276512465319684e-08, 2.1369844205310073e-07, 1.1754615059089701e-08, 6.368003937495814e-07, 9.714446787256747e-05, 0.0005541589925996959, 0.716519832611084, 0.0004899672348983586, 3.7053435875122887e-08, 5.2878190217597876e-06, 9.002534397950512e-07, 3.1280240619935284e-08, 2.9756724870821927e-06, 0.0016437025042250752, 0.0, 0.0, 0.0], [0.06166510656476021, 6.4602040765748825e-06, 3.924486335904476e-08, 9.445505355643036e-08, 1.937591598277777e-08, 2.550223143771291e-07, 4.153078771196306e-05, 1.8133759382976677e-08, 0.0010428325040265918, 0.9330260753631592, 2.0757008314831182e-05, 4.3665117118507624e-05, 1.8126756913261488e-06, 7.61846933983179e-07, 6.214881068444811e-06, 7.793886993567867e-07, 0.0041435640305280685, 0.0, 0.0], [0.8465109467506409, 8.941682608565316e-06, 4.678116738432436e-08, 1.782233454150628e-07, 3.967088844092359e-07, 1.498799306887122e-08, 0.00026151645579375327, 9.577327646226319e-12, 1.4764346815354656e-05, 0.021695245057344437, 0.052809394896030426, 0.0010772169334813952, 1.1073175301135052e-06, 3.114209221166675e-06, 5.067854090157198e-06, 1.2712255692548524e-09, 3.834031303995289e-05, 0.07757367938756943, 0.0], [0.991230845451355, 0.00012835201050620526, 2.7910192557101254e-07, 5.1935778344613936e-08, 1.9746757118355163e-07, 6.7078587129287826e-09, 0.00015429688210133463, 8.269819828932157e-10, 2.086284257529769e-05, 2.5759074560482986e-05, 4.45893092546612e-05, 0.0007089924183674157, 0.00014637471758760512, 1.394460559822619e-05, 0.00037795869866386056, 9.428025293800602e-08, 0.00011241288302699104, 0.0005249789683148265, 0.006510073784738779]], [[1.0, 0.0, 0.0, 0.0, 0.0, 0.0, 0.0, 0.0, 0.0, 0.0, 0.0, 0.0, 0.0, 0.0, 0.0, 0.0, 0.0, 0.0, 0.0], [0.9810397624969482, 0.0189602542668581, 0.0, 0.0, 0.0, 0.0, 0.0, 0.0, 0.0, 0.0, 0.0, 0.0, 0.0, 0.0, 0.0, 0.0, 0.0, 0.0, 0.0], [0.7762604355812073, 0.18064258992671967, 0.043096963316202164, 0.0, 0.0, 0.0, 0.0, 0.0, 0.0, 0.0, 0.0, 0.0, 0.0, 0.0, 0.0, 0.0, 0.0, 0.0, 0.0], [0.7800005674362183, 0.08570679277181625, 0.10071917623281479, 0.03357350453734398, 0.0, 0.0, 0.0, 0.0, 0.0, 0.0, 0.0, 0.0, 0.0, 0.0, 0.0, 0.0, 0.0, 0.0, 0.0], [0.5742275714874268, 0.035135701298713684, 0.07424429804086685, 0.2707814574241638, 0.045611005276441574, 0.0, 0.0, 0.0, 0.0, 0.0, 0.0, 0.0, 0.0, 0.0, 0.0, 0.0, 0.0, 0.0, 0.0], [0.6444492936134338, 0.02668927051126957, 0.02454056777060032, 0.07133613526821136, 0.20773974061012268, 0.025244994089007378, 0.0, 0.0, 0.0, 0.0, 0.0, 0.0, 0.0, 0.0, 0.0, 0.0, 0.0, 0.0, 0.0], [0.9653747081756592, 0.0033081730362027884, 0.0025650663301348686, 0.0037346468307077885, 0.003178454702720046, 0.014457851648330688, 0.00738112349063158, 0.0, 0.0, 0.0, 0.0, 0.0, 0.0, 0.0, 0.0, 0.0, 0.0, 0.0, 0.0], [0.9428845643997192, 0.0014624649193137884, 0.0004864296643063426, 0.0024887139443308115, 0.005380458664149046, 0.009234507568180561, 0.034343231469392776, 0.0037196066696196795, 0.0, 0.0, 0.0, 0.0, 0.0, 0.0, 0.0, 0.0, 0.0, 0.0, 0.0], [0.6418942213058472, 0.002665477804839611, 0.0024900666903704405, 0.0026323769707232714, 0.013703863136470318, 0.013646907173097134, 0.21169954538345337, 0.09939494729042053, 0.011872571893036366, 0.0, 0.0, 0.0, 0.0, 0.0, 0.0, 0.0, 0.0, 0.0, 0.0], [0.5531945824623108, 0.0012918744469061494, 0.0029884018003940582, 0.004128897562623024, 0.0025416919961571693, 0.0107843903824687, 0.14034532010555267, 0.1522945910692215, 0.1006602793931961, 0.031769972294569016, 0.0, 0.0, 0.0, 0.0, 0.0, 0.0, 0.0, 0.0, 0.0], [0.3397982120513916, 0.012768495827913284, 0.03223368898034096, 0.019921325147151947, 0.07788609713315964, 0.20515182614326477, 0.13213130831718445, 0.07078088074922562, 0.043559618294239044, 0.05184774100780487, 0.013920741155743599, 0.0, 0.0, 0.0, 0.0, 0.0, 0.0, 0.0, 0.0], [0.8336338996887207, 0.005396612919867039, 0.00937348697334528, 0.007458523381501436, 0.006902418565005064, 0.03350779041647911, 0.029123930260539055, 0.008482933975756168, 0.014751126058399677, 0.008022901602089405, 0.015759268775582314, 0.02758704125881195, 0.0, 0.0, 0.0, 0.0, 0.0, 0.0, 0.0], [0.896485447883606, 0.0016198657685890794, 0.0015861866995692253, 0.001874251989647746, 0.012141426093876362, 0.01559238787740469, 0.0038534123450517654, 0.002195451408624649, 0.0023538924288004637, 0.0020700704772025347, 0.006110611371695995, 0.04344674572348595, 0.010670213028788567, 0.0, 0.0, 0.0, 0.0, 0.0, 0.0], [0.6941449642181396, 0.008010635152459145, 0.00225923303514719, 0.0032776060979813337, 0.0036176489666104317, 0.01628800481557846, 0.0024825686123222113, 0.0025014299899339676, 0.001486990600824356, 0.0011394587345421314, 0.002395313698798418, 0.030620254576206207, 0.21175114810466766, 0.020024726167321205, 0.0, 0.0, 0.0, 0.0, 0.0], [0.7945998311042786, 0.001407938776537776, 0.00041437058825977147, 0.0003638657508417964, 0.004011391196399927, 0.0036067951004952192, 0.002458117436617613, 0.0061910501681268215, 0.00528895715251565, 0.0128687284886837, 0.00734584080055356, 0.027991333976387978, 0.043093062937259674, 0.08642545342445374, 0.003933205734938383, 0.0, 0.0, 0.0, 0.0], [0.6642526388168335, 0.0010255798697471619, 0.00015396333765238523, 0.0004074063035659492, 0.0016108622075989842, 0.002761406358331442, 0.014305234886705875, 0.0009147874661721289, 0.001222263090312481, 0.0006001938018016517, 0.008996216580271721, 0.023629821836948395, 0.044179271906614304, 0.028477096930146217, 0.17658810317516327, 0.030875107273459435, 0.0, 0.0, 0.0], [0.662854790687561, 0.0008950165356509387, 0.0002479212707839906, 0.00028794907848350704, 0.002691766945645213, 0.0033853971399366856, 0.01977112703025341, 0.0035749911330640316, 0.001320759649388492, 0.0017811262514442205, 0.0025821796152740717, 0.017734862864017487, 0.03657245263457298, 0.02623649872839451, 0.15909752249717712, 0.04074380174279213, 0.020221829414367676, 0.0, 0.0], [0.4916824400424957, 0.00033592735417187214, 0.0002217250585090369, 0.0002424294507363811, 0.0004814470885321498, 0.0014470373280346394, 0.009780802763998508, 0.005437855143100023, 0.006263491231948137, 0.002199657028540969, 0.00392221799120307, 0.0068521504290401936, 0.028415685519576073, 0.01300185639411211, 0.15353253483772278, 0.10526332259178162, 0.13387009501457214, 0.037049245089292526, 0.0], [0.37662944197654724, 0.0038130967877805233, 0.0007721285219304264, 0.0007466937531717122, 0.0024197895545512438, 0.0067746895365417, 0.008877669461071491, 0.005320705007761717, 0.008849994279444218, 0.005647758021950722, 0.0026810145936906338, 0.03116435743868351, 0.079351507127285, 0.029641224071383476, 0.210229754447937, 0.04603833332657814, 0.11242721229791641, 0.04768364876508713, 0.02093099243938923]], [[1.0, 0.0, 0.0, 0.0, 0.0, 0.0, 0.0, 0.0, 0.0, 0.0, 0.0, 0.0, 0.0, 0.0, 0.0, 0.0, 0.0, 0.0, 0.0], [0.9066764116287231, 0.09332366287708282, 0.0, 0.0, 0.0, 0.0, 0.0, 0.0, 0.0, 0.0, 0.0, 0.0, 0.0, 0.0, 0.0, 0.0, 0.0, 0.0, 0.0], [0.7077313661575317, 0.2664460241794586, 0.025822628289461136, 0.0, 0.0, 0.0, 0.0, 0.0, 0.0, 0.0, 0.0, 0.0, 0.0, 0.0, 0.0, 0.0, 0.0, 0.0, 0.0], [0.6864891648292542, 0.2571350932121277, 0.03922997787594795, 0.017145751044154167, 0.0, 0.0, 0.0, 0.0, 0.0, 0.0, 0.0, 0.0, 0.0, 0.0, 0.0, 0.0, 0.0, 0.0, 0.0], [0.7389253973960876, 0.16518723964691162, 0.04360950365662575, 0.027796993032097816, 0.024480922147631645, 0.0, 0.0, 0.0, 0.0, 0.0, 0.0, 0.0, 0.0, 0.0, 0.0, 0.0, 0.0, 0.0, 0.0], [0.6224476099014282, 0.10996098816394806, 0.10296271741390228, 0.0600009523332119, 0.05784224346280098, 0.04678547754883766, 0.0, 0.0, 0.0, 0.0, 0.0, 0.0, 0.0, 0.0, 0.0, 0.0, 0.0, 0.0, 0.0], [0.6215835213661194, 0.03942619636654854, 0.034521475434303284, 0.04967617616057396, 0.10990609973669052, 0.11276096850633621, 0.032125528901815414, 0.0, 0.0, 0.0, 0.0, 0.0, 0.0, 0.0, 0.0, 0.0, 0.0, 0.0, 0.0], [0.8541039228439331, 0.026694005355238914, 0.012052131816744804, 0.011477133259177208, 0.016153879463672638, 0.03321679309010506, 0.04243467375636101, 0.003867469960823655, 0.0, 0.0, 0.0, 0.0, 0.0, 0.0, 0.0, 0.0, 0.0, 0.0, 0.0], [0.680162250995636, 0.020729828625917435, 0.01824287697672844, 0.03368588909506798, 0.05117417499423027, 0.10148169845342636, 0.055622946470975876, 0.026647962629795074, 0.012252334505319595, 0.0, 0.0, 0.0, 0.0, 0.0, 0.0, 0.0, 0.0, 0.0, 0.0], [0.49796369671821594, 0.036049939692020416, 0.026177270337939262, 0.02625054121017456, 0.09428290277719498, 0.1432550847530365, 0.09797349572181702, 0.022192182019352913, 0.02931991033256054, 0.026534922420978546, 0.0, 0.0, 0.0, 0.0, 0.0, 0.0, 0.0, 0.0, 0.0], [0.4043089747428894, 0.057319846004247665, 0.0657280683517456, 0.04218362644314766, 0.0985165536403656, 0.20363418757915497, 0.024478444829583168, 0.024484971538186073, 0.020120155066251755, 0.017423201352357864, 0.04180198162794113, 0.0, 0.0, 0.0, 0.0, 0.0, 0.0, 0.0, 0.0], [0.16241678595542908, 0.020010758191347122, 0.01933181658387184, 0.014579393900930882, 0.09626654535531998, 0.1860668659210205, 0.019576463848352432, 0.01213504932820797, 0.013721972703933716, 0.00895207840949297, 0.26583608984947205, 0.18110617995262146, 0.0, 0.0, 0.0, 0.0, 0.0, 0.0, 0.0], [0.2074899524450302, 0.009169535711407661, 0.012387731112539768, 0.008684887550771236, 0.08629012107849121, 0.09741814434528351, 0.007598851807415485, 0.008672546595335007, 0.008160354569554329, 0.006086012348532677, 0.13679124414920807, 0.36812517046928406, 0.04312543570995331, 0.0, 0.0, 0.0, 0.0, 0.0, 0.0], [0.21417978405952454, 0.010076876729726791, 0.008807554841041565, 0.007056443020701408, 0.02007179707288742, 0.04450789839029312, 0.0065452829003334045, 0.01118740439414978, 0.003248032880946994, 0.0032578373793512583, 0.05083140730857849, 0.38174986839294434, 0.1688837707042694, 0.0695960745215416, 0.0, 0.0, 0.0, 0.0, 0.0], [0.37273186445236206, 0.011325002647936344, 0.012873321771621704, 0.007231629453599453, 0.026860089972615242, 0.03689616546034813, 0.008605056442320347, 0.019691497087478638, 0.010301820933818817, 0.01178642176091671, 0.06465020775794983, 0.22179950773715973, 0.09750121086835861, 0.057524386793375015, 0.04022183641791344, 0.0, 0.0, 0.0, 0.0], [0.2928105294704437, 0.017936188727617264, 0.013052328489720821, 0.009134462103247643, 0.015946490690112114, 0.030782194808125496, 0.011560681276023388, 0.0019643506966531277, 0.004086991772055626, 0.0041727605275809765, 0.08476318418979645, 0.18213534355163574, 0.12659883499145508, 0.097138412296772, 0.0963892787694931, 0.011527933180332184, 0.0, 0.0, 0.0], [0.36273038387298584, 0.004076298326253891, 0.005486734677106142, 0.0054871137253940105, 0.010880702175199986, 0.028578300029039383, 0.01064259186387062, 0.003334795357659459, 0.0019825920462608337, 0.004169662948697805, 0.04169729724526405, 0.18801182508468628, 0.10120148211717606, 0.1055150255560875, 0.09746981412172318, 0.013283328153192997, 0.015452072955667973, 0.0, 0.0], [0.29316651821136475, 0.005827079527080059, 0.004314235877245665, 0.0025525824166834354, 0.01052920613437891, 0.02094370685517788, 0.01334107294678688, 0.002798492321744561, 0.0034765677992254496, 0.0033356815110892057, 0.05422466993331909, 0.12316591292619705, 0.09101397544145584, 0.14566326141357422, 0.17106343805789948, 0.011947369202971458, 0.02629375271499157, 0.01634254679083824, 0.0], [0.17136825621128082, 0.005424124654382467, 0.012077659368515015, 0.017223335802555084, 0.04010303318500519, 0.05167117714881897, 0.007683031726628542, 0.0031989081762731075, 0.004347064532339573, 0.0028254236094653606, 0.058806926012039185, 0.20177321135997772, 0.10547764599323273, 0.1028115376830101, 0.1283697485923767, 0.014443130232393742, 0.029003379866480827, 0.01662103645503521, 0.026771292090415955]], [[1.0, 0.0, 0.0, 0.0, 0.0, 0.0, 0.0, 0.0, 0.0, 0.0, 0.0, 0.0, 0.0, 0.0, 0.0, 0.0, 0.0, 0.0, 0.0], [0.9754344820976257, 0.02456553466618061, 0.0, 0.0, 0.0, 0.0, 0.0, 0.0, 0.0, 0.0, 0.0, 0.0, 0.0, 0.0, 0.0, 0.0, 0.0, 0.0, 0.0], [0.8934983015060425, 0.059456221759319305, 0.04704540595412254, 0.0, 0.0, 0.0, 0.0, 0.0, 0.0, 0.0, 0.0, 0.0, 0.0, 0.0, 0.0, 0.0, 0.0, 0.0, 0.0], [0.9377243518829346, 0.02469528093934059, 0.02610268071293831, 0.011477760039269924, 0.0, 0.0, 0.0, 0.0, 0.0, 0.0, 0.0, 0.0, 0.0, 0.0, 0.0, 0.0, 0.0, 0.0, 0.0], [0.8203497529029846, 0.021402964368462563, 0.04747236147522926, 0.0632907897233963, 0.047484140843153, 0.0, 0.0, 0.0, 0.0, 0.0, 0.0, 0.0, 0.0, 0.0, 0.0, 0.0, 0.0, 0.0, 0.0], [0.546924352645874, 0.02770121395587921, 0.08392906188964844, 0.12328706681728363, 0.12479321658611298, 0.09336504340171814, 0.0, 0.0, 0.0, 0.0, 0.0, 0.0, 0.0, 0.0, 0.0, 0.0, 0.0, 0.0, 0.0], [0.6053372621536255, 0.011180262081325054, 0.01737779565155506, 0.032331887632608414, 0.05302320048213005, 0.25484979152679443, 0.02589980512857437, 0.0, 0.0, 0.0, 0.0, 0.0, 0.0, 0.0, 0.0, 0.0, 0.0, 0.0, 0.0], [0.8242297172546387, 0.020376617088913918, 0.014322117902338505, 0.021619312465190887, 0.013263698667287827, 0.07978511601686478, 0.013373184949159622, 0.01303025521337986, 0.0, 0.0, 0.0, 0.0, 0.0, 0.0, 0.0, 0.0, 0.0, 0.0, 0.0], [0.5681740045547485, 0.011493103578686714, 0.015429696999490261, 0.02383003756403923, 0.02624310739338398, 0.30661773681640625, 0.011892418377101421, 0.017925750464200974, 0.018394149839878082, 0.0, 0.0, 0.0, 0.0, 0.0, 0.0, 0.0, 0.0, 0.0, 0.0], [0.5252254605293274, 0.016676275059580803, 0.015781493857502937, 0.027441777288913727, 0.030279431492090225, 0.2976444959640503, 0.009797611273825169, 0.016003912314772606, 0.036105912178754807, 0.025043582543730736, 0.0, 0.0, 0.0, 0.0, 0.0, 0.0, 0.0, 0.0, 0.0], [0.3074469566345215, 0.02505023032426834, 0.061886630952358246, 0.05458400771021843, 0.09357132762670517, 0.21654877066612244, 0.012054160237312317, 0.040753405541181564, 0.056599583476781845, 0.061995476484298706, 0.06950947642326355, 0.0, 0.0, 0.0, 0.0, 0.0, 0.0, 0.0, 0.0], [0.5660779476165771, 0.020441925153136253, 0.0143180126324296, 0.013575547374784946, 0.08718783408403397, 0.07382379472255707, 0.007751481141895056, 0.015859344974160194, 0.037409983575344086, 0.019469203427433968, 0.11504873633384705, 0.02903619594871998, 0.0, 0.0, 0.0, 0.0, 0.0, 0.0, 0.0], [0.589356541633606, 0.0012803799472749233, 0.0006457616109400988, 0.00017649991787038743, 0.0024254797026515007, 0.006445538718253374, 0.013047032989561558, 0.001795843942090869, 0.005930672865360975, 0.0020445967093110085, 0.012802195735275745, 0.25787025690078735, 0.10617922246456146, 0.0, 0.0, 0.0, 0.0, 0.0, 0.0], [0.6253754496574402, 0.0011952311033383012, 0.0010583578841760755, 0.0001886133977677673, 0.0005320057389326394, 0.006031896453350782, 0.00539266737177968, 0.003224822925403714, 0.011109443381428719, 0.003403653157874942, 0.023837324231863022, 0.23550409078598022, 0.06387951225042343, 0.01926693320274353, 0.0, 0.0, 0.0, 0.0, 0.0], [0.2231118530035019, 0.0005697265733033419, 0.00042968278285115957, 0.00046152935829013586, 0.0017397267511114478, 0.004970075096935034, 0.0028814999386668205, 0.00276112649589777, 0.005601387470960617, 0.0022881627082824707, 0.008591966703534126, 0.03761699050664902, 0.14811190962791443, 0.46793556213378906, 0.09292884171009064, 0.0, 0.0, 0.0, 0.0], [0.293125182390213, 0.0030327613931149244, 0.0010741648729890585, 0.0007514038006775081, 0.0014904446434229612, 0.010744349099695683, 0.0007372600957751274, 0.0006243324023671448, 0.0012146325316280127, 0.0005888408632017672, 0.0308042224496603, 0.0858600065112114, 0.34377458691596985, 0.17826785147190094, 0.04020649939775467, 0.007703443057835102, 0.0, 0.0, 0.0], [0.3533918559551239, 0.0010280297137796879, 0.0007614791975356638, 0.000402658071834594, 0.0011946441372856498, 0.011036894284188747, 0.0009871514048427343, 0.0009570527472533286, 0.001096715684980154, 0.0006520097376778722, 0.015641367062926292, 0.06056658551096916, 0.18588212132453918, 0.28482240438461304, 0.04361537843942642, 0.01038359198719263, 0.02757999487221241, 0.0, 0.0], [0.26415401697158813, 0.0009478244464844465, 0.000317009020363912, 0.00014857976930215955, 0.00047340383753180504, 0.0038378641474992037, 0.0006572238635271788, 0.0005697660380974412, 0.0011144439922645688, 0.0004552901373244822, 0.011817088350653648, 0.06055339798331261, 0.21147382259368896, 0.3490205407142639, 0.036643363535404205, 0.006789318285882473, 0.03398609906435013, 0.017040938138961792, 0.0], [0.5762197971343994, 0.0005383281386457384, 0.0006181475473567843, 0.000955107097979635, 0.0048383320681750774, 0.008272269740700722, 0.0006036459817551076, 0.001564025180414319, 0.002866239519789815, 0.0011208198266103864, 0.013511255383491516, 0.0607796236872673, 0.06419090181589127, 0.12566304206848145, 0.0113033726811409, 0.0059414939023554325, 0.01764063723385334, 0.008368562906980515, 0.09500438719987869]], [[1.0, 0.0, 0.0, 0.0, 0.0, 0.0, 0.0, 0.0, 0.0, 0.0, 0.0, 0.0, 0.0, 0.0, 0.0, 0.0, 0.0, 0.0, 0.0], [0.9868469834327698, 0.01315300352871418, 0.0, 0.0, 0.0, 0.0, 0.0, 0.0, 0.0, 0.0, 0.0, 0.0, 0.0, 0.0, 0.0, 0.0, 0.0, 0.0, 0.0], [0.9829741716384888, 0.008728627115488052, 0.008297199383378029, 0.0, 0.0, 0.0, 0.0, 0.0, 0.0, 0.0, 0.0, 0.0, 0.0, 0.0, 0.0, 0.0, 0.0, 0.0, 0.0], [0.9893584251403809, 0.0031397861894220114, 0.0015525055350735784, 0.0059493351727724075, 0.0, 0.0, 0.0, 0.0, 0.0, 0.0, 0.0, 0.0, 0.0, 0.0, 0.0, 0.0, 0.0, 0.0, 0.0], [0.98773592710495, 0.004855627194046974, 0.0003528336819726974, 0.004595322068780661, 0.0024602238554507494, 0.0, 0.0, 0.0, 0.0, 0.0, 0.0, 0.0, 0.0, 0.0, 0.0, 0.0, 0.0, 0.0, 0.0], [0.9934502840042114, 0.0018139273161068559, 3.838304473902099e-05, 0.00025128619745373726, 0.0017563020810484886, 0.002689794171601534, 0.0, 0.0, 0.0, 0.0, 0.0, 0.0, 0.0, 0.0, 0.0, 0.0, 0.0, 0.0, 0.0], [0.9922009706497192, 0.0019196099601686, 0.001866996637545526, 0.00044333934783935547, 9.240164945367724e-05, 0.0009332930785603821, 0.002543356269598007, 0.0, 0.0, 0.0, 0.0, 0.0, 0.0, 0.0, 0.0, 0.0, 0.0, 0.0, 0.0], [0.9917755126953125, 0.004448047373443842, 7.885321338108042e-07, 1.0964298553517438e-06, 1.573915824337746e-06, 5.013745612814091e-05, 0.0030077772680670023, 0.0007150446763262153, 0.0, 0.0, 0.0, 0.0, 0.0, 0.0, 0.0, 0.0, 0.0, 0.0, 0.0], [0.9857521653175354, 0.002338117454200983, 3.1217264222505037e-06, 3.284989725216292e-05, 5.361209696275182e-05, 3.8776168366894126e-05, 0.0019523205701261759, 1.0436036035343932e-07, 0.009828923270106316, 0.0, 0.0, 0.0, 0.0, 0.0, 0.0, 0.0, 0.0, 0.0, 0.0], [0.9795262813568115, 0.0006241052760742605, 4.0529488387619494e-07, 1.2159658581367694e-05, 7.599845412187278e-05, 2.2918422928341897e-06, 0.0016141926171258092, 1.147686667923864e-10, 0.00011157707922393456, 0.018032927066087723, 0.0, 0.0, 0.0, 0.0, 0.0, 0.0, 0.0, 0.0, 0.0], [0.9746615886688232, 0.005125541239976883, 0.0008722860366106033, 0.0005272795096971095, 0.0013347751228138804, 0.00026207364862784743, 0.00772735895588994, 7.684692718612496e-06, 0.00019602032261900604, 0.0006284188712015748, 0.008657070808112621, 0.0, 0.0, 0.0, 0.0, 0.0, 0.0, 0.0, 0.0], [0.9447856545448303, 0.006965372245758772, 0.0012018687557429075, 0.0008972680661827326, 0.0020529122557491064, 0.0020139727275818586, 0.026720501482486725, 0.00020841663354076445, 0.0010294363601133227, 0.00012204694212414324, 0.0005697275046259165, 0.01343295257538557, 0.0, 0.0, 0.0, 0.0, 0.0, 0.0, 0.0], [0.8952815532684326, 0.0027470893692225218, 0.0010878955945372581, 0.0008756335009820759, 0.008267770521342754, 0.006351497024297714, 0.02088642120361328, 0.00033762023667804897, 0.0016266398597508669, 0.002685725223273039, 0.006152390036731958, 0.044226422905921936, 0.009473414160311222, 0.0, 0.0, 0.0, 0.0, 0.0, 0.0], [0.9739699959754944, 0.001252356101758778, 3.3857140806503594e-05, 9.429450437892228e-05, 0.00024333868350367993, 0.002347544999793172, 0.009335864335298538, 7.64371975492395e-07, 8.337775943800807e-05, 1.9262895420979476e-06, 4.163435005466454e-05, 0.006350748706609011, 0.0050293635576963425, 0.0012148604728281498, 0.0, 0.0, 0.0, 0.0, 0.0], [0.16093093156814575, 0.00034356239484623075, 9.197450708597898e-05, 8.661507308715954e-05, 1.308841001446126e-05, 7.623682176927105e-05, 0.00043560791527852416, 0.3493505120277405, 0.48591893911361694, 0.0003348427126184106, 5.813984898850322e-05, 0.002138761105015874, 0.00014608915080316365, 1.7852853488875553e-05, 5.6873526773415506e-05, 0.0, 0.0, 0.0, 0.0], [0.02332172356545925, 0.00029435977921821177, 1.0431043051539746e-07, 2.047372390734381e-06, 6.899869049448171e-07, 8.212451575673185e-06, 0.00014746165834367275, 9.31711656448897e-06, 0.9744018316268921, 0.0009859013371169567, 2.0644485630327836e-05, 0.0006879692082293332, 2.27330547204474e-05, 8.950784717853821e-07, 7.5031607593700755e-06, 8.854607585817575e-05, 0.0, 0.0, 0.0], [0.05247911810874939, 0.00045145006151869893, 1.8360590274824062e-06, 4.759412695420906e-05, 2.733762994466815e-05, 2.25540734390961e-05, 0.0003517692384775728, 4.8199787272551475e-08, 0.0014462143881246448, 0.9321990013122559, 0.003984292969107628, 0.00619468605145812, 4.606768925441429e-05, 0.0001282618468394503, 1.9009123207069933e-05, 5.618439899990335e-07, 0.002600325271487236, 0.0, 0.0], [0.16672064363956451, 0.0008324769441969693, 1.998950665438315e-06, 8.151153451763093e-05, 0.00018204456137027591, 1.0328289135941304e-05, 0.0017889545997604728, 8.569885912024233e-10, 0.0002450873435009271, 0.011699752882122993, 0.7231661081314087, 0.03511583432555199, 9.578401659382507e-05, 0.000969847955275327, 8.700109174242243e-05, 4.3454225107097955e-08, 0.0007297121337614954, 0.05827287584543228, 0.0], [0.9268366694450378, 0.0015351304318755865, 5.397442146204412e-05, 2.0713345293188468e-05, 0.00016142656386364251, 7.95772848505294e-06, 0.0013087897095829248, 9.980019058275502e-06, 0.001717368490062654, 0.0007832652772776783, 0.012932478450238705, 0.01370188593864441, 0.003742241533473134, 0.0017341144848614931, 0.002129102125763893, 5.990753561491147e-05, 0.0029111828189343214, 0.0040153199806809425, 0.026338448747992516]], [[1.0, 0.0, 0.0, 0.0, 0.0, 0.0, 0.0, 0.0, 0.0, 0.0, 0.0, 0.0, 0.0, 0.0, 0.0, 0.0, 0.0, 0.0, 0.0], [0.9817849397659302, 0.018215108662843704, 0.0, 0.0, 0.0, 0.0, 0.0, 0.0, 0.0, 0.0, 0.0, 0.0, 0.0, 0.0, 0.0, 0.0, 0.0, 0.0, 0.0], [0.6594926714897156, 0.2805744409561157, 0.059932827949523926, 0.0, 0.0, 0.0, 0.0, 0.0, 0.0, 0.0, 0.0, 0.0, 0.0, 0.0, 0.0, 0.0, 0.0, 0.0, 0.0], [0.6112189888954163, 0.15707217156887054, 0.1678733080625534, 0.06383553892374039, 0.0, 0.0, 0.0, 0.0, 0.0, 0.0, 0.0, 0.0, 0.0, 0.0, 0.0, 0.0, 0.0, 0.0, 0.0], [0.6122534871101379, 0.016384614631533623, 0.08252356946468353, 0.22507791221141815, 0.06376036256551743, 0.0, 0.0, 0.0, 0.0, 0.0, 0.0, 0.0, 0.0, 0.0, 0.0, 0.0, 0.0, 0.0, 0.0], [0.92856365442276, 0.0007525745895691216, 0.001479953876696527, 0.00017442909302189946, 0.060653459280729294, 0.00837587472051382, 0.0, 0.0, 0.0, 0.0, 0.0, 0.0, 0.0, 0.0, 0.0, 0.0, 0.0, 0.0, 0.0], [0.9284204840660095, 0.003684924216940999, 0.00230722245760262, 0.0012946302304044366, 0.009455615654587746, 0.01936153508722782, 0.03547555208206177, 0.0, 0.0, 0.0, 0.0, 0.0, 0.0, 0.0, 0.0, 0.0, 0.0, 0.0, 0.0], [0.22764389216899872, 0.0019504958763718605, 0.0011069381143897772, 0.0007280758582055569, 1.177670947072329e-05, 0.0009620354394428432, 0.7214936017990112, 0.04610316827893257, 0.0, 0.0, 0.0, 0.0, 0.0, 0.0, 0.0, 0.0, 0.0, 0.0, 0.0], [0.8009751439094543, 0.00043827175977639854, 0.000242086302023381, 2.9271121093188412e-05, 0.0004107847635168582, 0.0032101012766361237, 0.028135567903518677, 0.11256209015846252, 0.05399665981531143, 0.0, 0.0, 0.0, 0.0, 0.0, 0.0, 0.0, 0.0, 0.0, 0.0], [0.36466357111930847, 0.0001416745944879949, 3.196041870978661e-05, 1.8515846704758587e-06, 7.223144348245114e-05, 0.00032026582630351186, 0.00040576228639110923, 0.005976205691695213, 0.53003990650177, 0.09834657609462738, 0.0, 0.0, 0.0, 0.0, 0.0, 0.0, 0.0, 0.0, 0.0], [0.5562888383865356, 0.0001505272084614262, 0.00013815115380566567, 7.088309939717874e-05, 0.0008008029544726014, 0.0006808688631281257, 0.0006820649723522365, 0.0002461520489305258, 0.014357559382915497, 0.37854957580566406, 0.04803453013300896, 0.0, 0.0, 0.0, 0.0, 0.0, 0.0, 0.0, 0.0], [0.8674488663673401, 0.0029950367752462626, 0.0006275675259530544, 0.0002535817329771817, 0.0029814259614795446, 0.0008199187577702105, 0.0012483824975788593, 0.00019464360957499593, 0.0013632348272949457, 0.008683965541422367, 0.1087755337357521, 0.004607849288731813, 0.0, 0.0, 0.0, 0.0, 0.0, 0.0, 0.0], [0.9060446619987488, 0.001371952472254634, 0.00015287206042557955, 2.2949852791498415e-05, 0.00013275156379677355, 0.0001798080775188282, 0.00032307044602930546, 1.686850555415731e-05, 6.358971586450934e-05, 7.237411409732886e-06, 0.0006574349827133119, 0.08806069195270538, 0.002966147381812334, 0.0, 0.0, 0.0, 0.0, 0.0, 0.0], [0.7615597248077393, 0.010166667401790619, 0.0018500271253287792, 0.00041811668779700994, 0.0012676826445385814, 0.08119887858629227, 0.000239637796767056, 2.223782939836383e-05, 4.8382386012235656e-05, 0.00013077229959890246, 0.00039975333493202925, 0.0911329835653305, 0.04686649143695831, 0.004698616918176413, 0.0, 0.0, 0.0, 0.0, 0.0], [0.6057817935943604, 0.0002234250569017604, 7.031708810245618e-05, 3.546692141753738e-06, 0.00029640563298016787, 0.00047696111141704023, 9.218252671416849e-05, 5.947300451225601e-06, 5.847571446793154e-05, 3.0105309633654542e-05, 0.0007280983845703304, 0.004128740634769201, 0.047703757882118225, 0.3329981863498688, 0.00740202609449625, 0.0, 0.0, 0.0, 0.0], [0.45940154790878296, 0.0017197648994624615, 0.00028312989161349833, 8.038739179028198e-05, 1.0070628377434332e-05, 0.00048171597882173955, 0.06412655115127563, 0.0036034295335412025, 6.327588198473677e-05, 2.1299761954196583e-07, 6.078082515159622e-05, 0.005211766809225082, 0.010776516050100327, 0.00014072722115088254, 0.43217211961746216, 0.021868064999580383, 0.0, 0.0, 0.0], [0.7048326730728149, 0.0005851663299836218, 0.00011280187754891813, 1.2638505722861737e-05, 9.087713988265023e-05, 0.000663148588500917, 0.004367303103208542, 0.010209351778030396, 0.0032470119185745716, 0.00023417155898641795, 0.0005163069581612945, 0.0010971910087391734, 0.006778179667890072, 0.0013956596376374364, 0.09433801472187042, 0.1006970927119255, 0.07082238048315048, 0.0, 0.0], [0.35953599214553833, 0.0001321961754001677, 1.971766869246494e-05, 6.896899549246882e-07, 1.9326802430441603e-05, 0.00010240836854791269, 0.00010711956565501168, 0.001914144610054791, 0.05452708527445793, 0.01706402562558651, 0.0026362647768110037, 0.0007176207727752626, 0.0024246256798505783, 0.0008492665365338326, 0.002344435080885887, 0.025867842137813568, 0.43983718752861023, 0.0919000655412674, 0.0], [0.8432286381721497, 0.0011053571943193674, 0.0002918035606853664, 3.711743192980066e-05, 0.00013179054076317698, 0.000183659401955083, 0.000103729274997022, 0.0002522515133023262, 0.002345751039683819, 0.011784271337091923, 0.009197242558002472, 0.0030006603337824345, 0.0020296473521739244, 0.000967825239058584, 0.0020205096807330847, 0.001785735716111958, 0.026478691026568413, 0.05416734516620636, 0.04088808223605156]], [[1.0, 0.0, 0.0, 0.0, 0.0, 0.0, 0.0, 0.0, 0.0, 0.0, 0.0, 0.0, 0.0, 0.0, 0.0, 0.0, 0.0, 0.0, 0.0], [0.9836136102676392, 0.016386432573199272, 0.0, 0.0, 0.0, 0.0, 0.0, 0.0, 0.0, 0.0, 0.0, 0.0, 0.0, 0.0, 0.0, 0.0, 0.0, 0.0, 0.0], [0.9436457753181458, 0.04443233832716942, 0.011921850964426994, 0.0, 0.0, 0.0, 0.0, 0.0, 0.0, 0.0, 0.0, 0.0, 0.0, 0.0, 0.0, 0.0, 0.0, 0.0, 0.0], [0.9423083662986755, 0.024162227287888527, 0.011743679642677307, 0.021785806864500046, 0.0, 0.0, 0.0, 0.0, 0.0, 0.0, 0.0, 0.0, 0.0, 0.0, 0.0, 0.0, 0.0, 0.0, 0.0], [0.8091652393341064, 0.014850924722850323, 0.020107515156269073, 0.0882284864783287, 0.06764791160821915, 0.0, 0.0, 0.0, 0.0, 0.0, 0.0, 0.0, 0.0, 0.0, 0.0, 0.0, 0.0, 0.0, 0.0], [0.5304810404777527, 0.00808436144143343, 0.01493532583117485, 0.03970643877983093, 0.29344162344932556, 0.1133512333035469, 0.0, 0.0, 0.0, 0.0, 0.0, 0.0, 0.0, 0.0, 0.0, 0.0, 0.0, 0.0, 0.0], [0.9766939878463745, 0.0003130037512164563, 8.081678242888302e-05, 0.00011721332703018561, 0.008819596841931343, 0.00802292488515377, 0.005952439270913601, 0.0, 0.0, 0.0, 0.0, 0.0, 0.0, 0.0, 0.0, 0.0, 0.0, 0.0, 0.0], [0.9899242520332336, 0.00012626197712961584, 0.00015312882896978408, 0.0002520361449569464, 0.0007157922955229878, 0.001324194367043674, 0.005036989692598581, 0.0024673223961144686, 0.0, 0.0, 0.0, 0.0, 0.0, 0.0, 0.0, 0.0, 0.0, 0.0, 0.0], [0.9202076196670532, 0.0006959103629924357, 0.0005454340134747326, 0.0014911792241036892, 0.00517292832955718, 0.011575428768992424, 0.022605886682868004, 0.019916957244277, 0.01778874360024929, 0.0, 0.0, 0.0, 0.0, 0.0, 0.0, 0.0, 0.0, 0.0, 0.0], [0.8466985821723938, 0.0006840135320089757, 0.0004648385220207274, 0.0025548788253217936, 0.009382888674736023, 0.027685891836881638, 0.010382762178778648, 0.03693162649869919, 0.05827799066901207, 0.006936579942703247, 0.0, 0.0, 0.0, 0.0, 0.0, 0.0, 0.0, 0.0, 0.0], [0.5601085424423218, 0.01210756041109562, 0.007110388483852148, 0.018970951437950134, 0.12997975945472717, 0.20677818357944489, 0.004831559956073761, 0.021061694249510765, 0.019807398319244385, 0.009246308356523514, 0.00999763049185276, 0.0, 0.0, 0.0, 0.0, 0.0, 0.0, 0.0, 0.0], [0.8254092931747437, 0.006559538654983044, 0.0009711066959425807, 0.003874563379213214, 0.02094798907637596, 0.04543628543615341, 0.0035184696316719055, 0.0185301024466753, 0.019520385190844536, 0.007785545662045479, 0.013322515413165092, 0.034124210476875305, 0.0, 0.0, 0.0, 0.0, 0.0, 0.0, 0.0], [0.8446410894393921, 0.0006650976138189435, 0.0002137107658199966, 0.00026866709231399, 0.008332512341439724, 0.009778311476111412, 0.0012327234726399183, 0.0018866520840674639, 0.026171090081334114, 0.003564007580280304, 0.0079794405028224, 0.08257734030485153, 0.012689230032265186, 0.0, 0.0, 0.0, 0.0, 0.0, 0.0], [0.7939538359642029, 0.0008461500983685255, 0.00036479387199506164, 0.0005549561465159059, 0.004248111508786678, 0.01553959771990776, 0.0002125838800566271, 0.0004264117742422968, 0.0014677336439490318, 0.0004076073528267443, 0.0022433483973145485, 0.06520761549472809, 0.06642651557922363, 0.04810062795877457, 0.0, 0.0, 0.0, 0.0, 0.0], [0.9299644827842712, 7.825403736205772e-05, 7.164160342654213e-05, 3.881285010720603e-05, 0.0010815176647156477, 0.0021563537884503603, 0.00043791590724140406, 0.001331242616288364, 0.00989607349038124, 0.0009250336443074048, 0.013496157713234425, 0.016976896673440933, 0.007476776372641325, 0.012296052649617195, 0.003772735595703125, 0.0, 0.0, 0.0, 0.0], [0.9320906400680542, 0.00013764112372882664, 0.00020594429224729538, 0.00014269902021624148, 0.0005070001352578402, 0.002423978876322508, 0.0015228706179186702, 0.0015775358770042658, 0.0006512923282571137, 0.00010557035420788452, 0.007201037369668484, 0.010311252437531948, 0.011837992817163467, 0.011737991124391556, 0.012073611840605736, 0.007472949102520943, 0.0, 0.0, 0.0], [0.8145480751991272, 0.00022281025303527713, 0.0005160488653928041, 0.00041837370372377336, 0.001987578347325325, 0.0072370232082903385, 0.0026529349852353334, 0.0038811136037111282, 0.0033711742144078016, 0.0003506361972540617, 0.006345763802528381, 0.02370675839483738, 0.057335298508405685, 0.039405353367328644, 0.017547164112329483, 0.010889742523431778, 0.009584038518369198, 0.0, 0.0], [0.7995286583900452, 0.0001767022185958922, 0.00026486683054827154, 0.00046930310782045126, 0.0026103914715349674, 0.011231138370931149, 0.0015070207882672548, 0.005868871230632067, 0.007640433497726917, 0.0009430132922716439, 0.010087056085467339, 0.006658368743956089, 0.04959778115153313, 0.03685325011610985, 0.015529277734458447, 0.019528893753886223, 0.02161191962659359, 0.009893044829368591, 0.0], [0.8623344898223877, 0.0002770497521851212, 0.0003747464215848595, 0.000502011098433286, 0.005707188509404659, 0.009638999588787556, 0.00043878363794647157, 0.0013939342461526394, 0.0017647282220423222, 0.0002609807124827057, 0.0032910434529185295, 0.026672324165701866, 0.039835125207901, 0.01743783988058567, 0.0015099516604095697, 0.0022415416315197945, 0.0036833551712334156, 0.0012525988277047873, 0.02138325944542885]], [[1.0, 0.0, 0.0, 0.0, 0.0, 0.0, 0.0, 0.0, 0.0, 0.0, 0.0, 0.0, 0.0, 0.0, 0.0, 0.0, 0.0, 0.0, 0.0], [0.9715725779533386, 0.028427397832274437, 0.0, 0.0, 0.0, 0.0, 0.0, 0.0, 0.0, 0.0, 0.0, 0.0, 0.0, 0.0, 0.0, 0.0, 0.0, 0.0, 0.0], [0.9642395377159119, 0.012667631730437279, 0.023092860355973244, 0.0, 0.0, 0.0, 0.0, 0.0, 0.0, 0.0, 0.0, 0.0, 0.0, 0.0, 0.0, 0.0, 0.0, 0.0, 0.0], [0.9757059216499329, 0.005165001843124628, 0.009250006638467312, 0.00987901259213686, 0.0, 0.0, 0.0, 0.0, 0.0, 0.0, 0.0, 0.0, 0.0, 0.0, 0.0, 0.0, 0.0, 0.0, 0.0], [0.9075956344604492, 0.009875467047095299, 0.0056762415915727615, 0.028142236173152924, 0.04871043190360069, 0.0, 0.0, 0.0, 0.0, 0.0, 0.0, 0.0, 0.0, 0.0, 0.0, 0.0, 0.0, 0.0, 0.0], [0.8859549760818481, 0.004756519570946693, 0.0036599580198526382, 0.010607457719743252, 0.030666571110486984, 0.0643545463681221, 0.0, 0.0, 0.0, 0.0, 0.0, 0.0, 0.0, 0.0, 0.0, 0.0, 0.0, 0.0, 0.0], [0.9467731714248657, 0.00934528186917305, 0.008947482332587242, 0.00473415944725275, 0.002904393943026662, 0.01035239640623331, 0.01694306544959545, 0.0, 0.0, 0.0, 0.0, 0.0, 0.0, 0.0, 0.0, 0.0, 0.0, 0.0, 0.0], [0.9778634905815125, 0.006776195019483566, 0.00014030991587787867, 0.00022306118626147509, 0.00013530789874494076, 0.002501873066648841, 0.00868187565356493, 0.0036778643261641264, 0.0, 0.0, 0.0, 0.0, 0.0, 0.0, 0.0, 0.0, 0.0, 0.0, 0.0], [0.9375223517417908, 0.004183298908174038, 0.0003910362720489502, 0.002667872002348304, 0.0017600443679839373, 0.005533043760806322, 0.019776994362473488, 0.00040695557254366577, 0.027758358046412468, 0.0, 0.0, 0.0, 0.0, 0.0, 0.0, 0.0, 0.0, 0.0, 0.0], [0.9050084352493286, 0.0019530392019078135, 0.0002211812388850376, 0.0005878471420146525, 0.0004856587038375437, 0.0004285829490981996, 0.01788155734539032, 2.171336382161826e-05, 0.009133346378803253, 0.06427861750125885, 0.0, 0.0, 0.0, 0.0, 0.0, 0.0, 0.0, 0.0, 0.0], [0.8609717488288879, 0.02657679282128811, 0.02676842175424099, 0.01778663881123066, 0.007184726186096668, 0.0043867845088243484, 0.0246841199696064, 0.0005507628084160388, 0.0016797573771327734, 0.003442934714257717, 0.025967340916395187, 0.0, 0.0, 0.0, 0.0, 0.0, 0.0, 0.0, 0.0], [0.8865572214126587, 0.008447237312793732, 0.0038757806178182364, 0.0038371768314391375, 0.0011051911860704422, 0.0018602256895974278, 0.038106903433799744, 0.0012064219918102026, 0.008065839298069477, 0.003708859672769904, 0.01495260838419199, 0.02827654778957367, 0.0, 0.0, 0.0, 0.0, 0.0, 0.0, 0.0], [0.8247389793395996, 0.002670060144737363, 0.000461429706774652, 8.44214009703137e-05, 0.010507587343454361, 0.0176098495721817, 0.026536928489804268, 0.0017162899021059275, 0.007325836922973394, 0.00434127589687705, 0.05109505355358124, 0.044557422399520874, 0.00835481844842434, 0.0, 0.0, 0.0, 0.0, 0.0, 0.0], [0.8338985443115234, 0.0017282913904637098, 0.0002363274252275005, 0.00027406204026192427, 0.00014406975242309272, 0.007653019391000271, 0.02326236106455326, 0.00013978774950373918, 0.004380854312330484, 0.00022726562747266144, 0.00237294496037066, 0.013556797988712788, 0.10162964463233948, 0.010496111586689949, 0.0, 0.0, 0.0, 0.0, 0.0], [0.6073756814002991, 0.0014075621729716659, 0.0010296833934262395, 0.0007032587309367955, 0.00030650285771116614, 0.0007003412465564907, 0.0026098822709172964, 0.17176881432533264, 0.16343845427036285, 0.012485725805163383, 0.004518165718764067, 0.020480351522564888, 0.004081277176737785, 0.003802078077569604, 0.005292082671076059, 0.0, 0.0, 0.0, 0.0], [0.6666739583015442, 0.0024293139576911926, 6.336235674098134e-05, 0.0003294050693511963, 7.638272654730827e-05, 0.0009309897432103753, 0.003613552078604698, 0.00042712606955319643, 0.17642594873905182, 0.060697559267282486, 0.008080907166004181, 0.05482880398631096, 0.008426275104284286, 0.0019369241781532764, 0.007089036516845226, 0.007970395497977734, 0.0, 0.0, 0.0], [0.5172390937805176, 0.0011441862443462014, 9.643135854275897e-05, 0.0006656982586719096, 0.0002259717002743855, 0.0006625576643273234, 0.0030400913674384356, 2.150031468772795e-05, 0.0026835184544324875, 0.3031187057495117, 0.028824295848608017, 0.09530024230480194, 0.004524149466305971, 0.005980018991976976, 0.005841032136231661, 0.00038006308022886515, 0.0302524883300066, 0.0, 0.0], [0.579836905002594, 0.0009560089092701674, 7.642081618541852e-05, 0.00019718943804036826, 0.00014997099060565233, 0.00011667115904856473, 0.004879076033830643, 3.832960373983951e-06, 0.001397620653733611, 0.007081608287990093, 0.2335265874862671, 0.04404693469405174, 0.0034503245260566473, 0.00360118318349123, 0.008028360083699226, 7.593421469209716e-05, 0.011246025562286377, 0.10132945328950882, 0.0], [0.7976997494697571, 0.0020035328343510628, 0.00021024704619776458, 0.0001809134118957445, 0.00023509217135142535, 0.0002964231825899333, 0.005826833192259073, 0.00017485718126408756, 0.0049138967879116535, 0.00047380581963807344, 0.016015997156500816, 0.05337497219443321, 0.016637269407510757, 0.0037227680440992117, 0.038493864238262177, 0.0010759142460301518, 0.013649050146341324, 0.005179066210985184, 0.039835698902606964]], [[1.0, 0.0, 0.0, 0.0, 0.0, 0.0, 0.0, 0.0, 0.0, 0.0, 0.0, 0.0, 0.0, 0.0, 0.0, 0.0, 0.0, 0.0, 0.0], [0.9894368648529053, 0.010563160292804241, 0.0, 0.0, 0.0, 0.0, 0.0, 0.0, 0.0, 0.0, 0.0, 0.0, 0.0, 0.0, 0.0, 0.0, 0.0, 0.0, 0.0], [0.9715985655784607, 0.019249001517891884, 0.009152491576969624, 0.0, 0.0, 0.0, 0.0, 0.0, 0.0, 0.0, 0.0, 0.0, 0.0, 0.0, 0.0, 0.0, 0.0, 0.0, 0.0], [0.9637433290481567, 0.014524471946060658, 0.008219844661653042, 0.0135123822838068, 0.0, 0.0, 0.0, 0.0, 0.0, 0.0, 0.0, 0.0, 0.0, 0.0, 0.0, 0.0, 0.0, 0.0, 0.0], [0.972075343132019, 0.009889749810099602, 0.008573472499847412, 0.008160421624779701, 0.001300816424190998, 0.0, 0.0, 0.0, 0.0, 0.0, 0.0, 0.0, 0.0, 0.0, 0.0, 0.0, 0.0, 0.0, 0.0], [0.9643924832344055, 0.009581138379871845, 0.006779193878173828, 0.007013631984591484, 0.004017407074570656, 0.00821602437645197, 0.0, 0.0, 0.0, 0.0, 0.0, 0.0, 0.0, 0.0, 0.0, 0.0, 0.0, 0.0, 0.0], [0.9378738403320312, 0.012339198030531406, 0.0026364976074546576, 0.003346020355820656, 0.012764234095811844, 0.012433580122888088, 0.01860673725605011, 0.0, 0.0, 0.0, 0.0, 0.0, 0.0, 0.0, 0.0, 0.0, 0.0, 0.0, 0.0], [0.9653584957122803, 0.0035988555755466223, 0.0027575911954045296, 0.0025913722347468138, 0.005742186214774847, 0.009899113327264786, 0.009655660949647427, 0.00039669324178248644, 0.0, 0.0, 0.0, 0.0, 0.0, 0.0, 0.0, 0.0, 0.0, 0.0, 0.0], [0.9478666186332703, 0.007074449677020311, 0.003062434960156679, 0.0017915639327839017, 0.005756471771746874, 0.009305819869041443, 0.0062947808764874935, 0.005685678217560053, 0.01316220872104168, 0.0, 0.0, 0.0, 0.0, 0.0, 0.0, 0.0, 0.0, 0.0, 0.0], [0.9180818796157837, 0.006062623579055071, 0.0028600168880075216, 0.001859486335888505, 0.0036083373706787825, 0.010014735162258148, 0.00965233612805605, 0.007249024696648121, 0.03265615925192833, 0.007955280132591724, 0.0, 0.0, 0.0, 0.0, 0.0, 0.0, 0.0, 0.0, 0.0], [0.8085219264030457, 0.025538062676787376, 0.005118536297231913, 0.0041188825853168964, 0.022221356630325317, 0.036889176815748215, 0.012406529858708382, 0.0050225756131112576, 0.02058570459485054, 0.032937128096818924, 0.026640109717845917, 0.0, 0.0, 0.0, 0.0, 0.0, 0.0, 0.0, 0.0], [0.7182825803756714, 0.024151083081960678, 0.015291746705770493, 0.026666736230254173, 0.039939556270837784, 0.06304885447025299, 0.013715279288589954, 0.005348691251128912, 0.022683538496494293, 0.013135362416505814, 0.04446402192115784, 0.013272630050778389, 0.0, 0.0, 0.0, 0.0, 0.0, 0.0, 0.0], [0.7252256870269775, 0.008758747950196266, 0.0063562714494764805, 0.00821357499808073, 0.009058826602995396, 0.028605472296476364, 0.021694209426641464, 0.00863130297511816, 0.04919927939772606, 0.02660505101084709, 0.07888475805521011, 0.015557031147181988, 0.013209785334765911, 0.0, 0.0, 0.0, 0.0, 0.0, 0.0], [0.8987473845481873, 0.007540999446064234, 0.0035352669656276703, 0.0035412516444921494, 0.006826792843639851, 0.014062273316085339, 0.004267915617674589, 0.0009097621659748256, 0.009849580936133862, 0.010451216250658035, 0.015897735953330994, 0.010325699113309383, 0.01103769987821579, 0.0030065015889704227, 0.0, 0.0, 0.0, 0.0, 0.0], [0.6124591827392578, 0.016619669273495674, 0.002745505888015032, 0.0037442375905811787, 0.004011911805719137, 0.003385161980986595, 0.03676733747124672, 0.019511433318257332, 0.050464533269405365, 0.09057705849409103, 0.030384967103600502, 0.012105956673622131, 0.07891054451465607, 0.0018508770735934377, 0.03646163269877434, 0.0, 0.0, 0.0, 0.0], [0.40157148241996765, 0.017745791003108025, 0.007338118273764849, 0.00836116448044777, 0.008701499551534653, 0.010538067668676376, 0.05018075928092003, 0.0033902826253324747, 0.10474953800439835, 0.14733290672302246, 0.09867542237043381, 0.0160120390355587, 0.05000133439898491, 0.0028356360271573067, 0.06348752230405807, 0.009078512899577618, 0.0, 0.0, 0.0], [0.5439716577529907, 0.013769164681434631, 0.00572294183075428, 0.003772508352994919, 0.00959014892578125, 0.012491896748542786, 0.02347087301313877, 0.017752347514033318, 0.04088879004120827, 0.09388967603445053, 0.08788546174764633, 0.014510593377053738, 0.03681424260139465, 0.004937953315675259, 0.025316301733255386, 0.03276605159044266, 0.03244929760694504, 0.0, 0.0], [0.44898155331611633, 0.01698567345738411, 0.007741563953459263, 0.00660657836124301, 0.008797173388302326, 0.022087395191192627, 0.025308556854724884, 0.020802395418286324, 0.05767696350812912, 0.027973171323537827, 0.13913533091545105, 0.024602223187685013, 0.05672626942396164, 0.004984681960195303, 0.03209735080599785, 0.028815332800149918, 0.052514124661684036, 0.01816360093653202, 0.0], [0.7907002568244934, 0.005968947894871235, 0.004463749472051859, 0.0037632582243531942, 0.00752865569666028, 0.006115680560469627, 0.008460183627903461, 0.009240110404789448, 0.016481636092066765, 0.030339067801833153, 0.02083088457584381, 0.018012410029768944, 0.02686525136232376, 0.016485078260302544, 0.004661924671381712, 0.004387484863400459, 0.009104710072278976, 0.012532249093055725, 0.004058439284563065]], [[1.0, 0.0, 0.0, 0.0, 0.0, 0.0, 0.0, 0.0, 0.0, 0.0, 0.0, 0.0, 0.0, 0.0, 0.0, 0.0, 0.0, 0.0, 0.0], [0.9721024036407471, 0.02789757400751114, 0.0, 0.0, 0.0, 0.0, 0.0, 0.0, 0.0, 0.0, 0.0, 0.0, 0.0, 0.0, 0.0, 0.0, 0.0, 0.0, 0.0], [0.9105842709541321, 0.06043180078268051, 0.028983918949961662, 0.0, 0.0, 0.0, 0.0, 0.0, 0.0, 0.0, 0.0, 0.0, 0.0, 0.0, 0.0, 0.0, 0.0, 0.0, 0.0], [0.8596980571746826, 0.08996232599020004, 0.025757499039173126, 0.02458209916949272, 0.0, 0.0, 0.0, 0.0, 0.0, 0.0, 0.0, 0.0, 0.0, 0.0, 0.0, 0.0, 0.0, 0.0, 0.0], [0.7680562734603882, 0.0623648427426815, 0.0285531934350729, 0.023707017302513123, 0.11731867492198944, 0.0, 0.0, 0.0, 0.0, 0.0, 0.0, 0.0, 0.0, 0.0, 0.0, 0.0, 0.0, 0.0, 0.0], [0.4758118689060211, 0.0311366468667984, 0.013257352635264397, 0.006589731201529503, 0.20435546338558197, 0.2688489556312561, 0.0, 0.0, 0.0, 0.0, 0.0, 0.0, 0.0, 0.0, 0.0, 0.0, 0.0, 0.0, 0.0], [0.8681087493896484, 0.013023513369262218, 0.0029856241308152676, 0.0028101385105401278, 0.0030561869498342276, 0.006136823911219835, 0.1038789451122284, 0.0, 0.0, 0.0, 0.0, 0.0, 0.0, 0.0, 0.0, 0.0, 0.0, 0.0, 0.0], [0.9313581585884094, 0.005324860103428364, 0.0015351611655205488, 0.00177870225161314, 0.00032657766132615507, 0.001278997166082263, 0.046167775988578796, 0.012229845859110355, 0.0, 0.0, 0.0, 0.0, 0.0, 0.0, 0.0, 0.0, 0.0, 0.0, 0.0], [0.5842294692993164, 0.002315241377800703, 0.0013397008879110217, 0.001135753933340311, 0.001585614518262446, 0.004060307517647743, 0.04402584210038185, 0.04204912856221199, 0.3192589282989502, 0.0, 0.0, 0.0, 0.0, 0.0, 0.0, 0.0, 0.0, 0.0, 0.0], [0.7581189274787903, 0.0037094885483384132, 0.0018107350915670395, 0.0026037893258035183, 0.0006181896897032857, 0.004985712934285402, 0.007676822133362293, 0.03031272254884243, 0.08469240367412567, 0.10547120124101639, 0.0, 0.0, 0.0, 0.0, 0.0, 0.0, 0.0, 0.0, 0.0], [0.3178632855415344, 0.013175289146602154, 0.00282609392888844, 0.004201356787234545, 0.027577020227909088, 0.15308231115341187, 0.02446509525179863, 0.025903470814228058, 0.12914182245731354, 0.22768446803092957, 0.07407975196838379, 0.0, 0.0, 0.0, 0.0, 0.0, 0.0, 0.0, 0.0], [0.5172525644302368, 0.019464747980237007, 0.007410244084894657, 0.005973474588245153, 0.041315704584121704, 0.11013757437467575, 0.011631382629275322, 0.008486448787152767, 0.03521395102143288, 0.044816482812166214, 0.16759136319160461, 0.030705975368618965, 0.0, 0.0, 0.0, 0.0, 0.0, 0.0, 0.0], [0.7438645362854004, 0.010861283168196678, 0.0023184968158602715, 0.0037802699953317642, 0.007482854649424553, 0.007124762982130051, 0.02996349148452282, 0.020273393020033836, 0.051363129168748856, 0.026692954823374748, 0.04910297319293022, 0.027822842821478844, 0.019349057227373123, 0.0, 0.0, 0.0, 0.0, 0.0, 0.0], [0.8872255086898804, 0.009207138791680336, 0.001866453210823238, 0.005096527747809887, 0.003624774981290102, 0.004378864075988531, 0.0022268351167440414, 0.0005104962619952857, 0.003672780469059944, 0.008617961779236794, 0.024595409631729126, 0.017889071255922318, 0.012932268902659416, 0.018155846744775772, 0.0, 0.0, 0.0, 0.0, 0.0], [0.5342405438423157, 0.004317870829254389, 0.0009923717007040977, 0.003155065467581153, 0.002906837733462453, 0.010930533520877361, 0.14644703269004822, 0.009936305694282055, 0.06127714738249779, 0.09863261133432388, 0.06360871344804764, 0.011265832930803299, 0.006065695080906153, 0.0012978700688108802, 0.04492555186152458, 0.0, 0.0, 0.0, 0.0], [0.35770344734191895, 0.004297344014048576, 0.000743493321351707, 0.002423180965706706, 0.002105154562741518, 0.01435197051614523, 0.2187584638595581, 0.024983437731862068, 0.044056426733732224, 0.07794980704784393, 0.15397508442401886, 0.005560561083257198, 0.003623958444222808, 0.0028256706427782774, 0.07054010778665543, 0.016101814806461334, 0.0, 0.0, 0.0], [0.2992776036262512, 0.0013140253722667694, 0.0004997571813873947, 0.0020233739633113146, 0.003001761855557561, 0.01399313285946846, 0.08782879263162613, 0.01749109849333763, 0.34331125020980835, 0.07538803666830063, 0.06997745484113693, 0.0034471768885850906, 0.004933278076350689, 0.0009745795978233218, 0.03292691707611084, 0.008475515060126781, 0.035136207938194275, 0.0, 0.0], [0.3096860945224762, 0.002729448489844799, 0.001051196362823248, 0.0029747348744422197, 0.003776713740080595, 0.02283758670091629, 0.04478776827454567, 0.035036105662584305, 0.11212868243455887, 0.1732199341058731, 0.13095976412296295, 0.010924230329692364, 0.029996348544955254, 0.01587648130953312, 0.029209133237600327, 0.011141018010675907, 0.016723543405532837, 0.04694124683737755, 0.0], [0.6545517444610596, 0.0037792297080159187, 0.0004151532775722444, 0.0011754719307646155, 0.0005023556295782328, 0.0017531608464196324, 0.016353115439414978, 0.008566899225115776, 0.06087135523557663, 0.047729142010211945, 0.05035452917218208, 0.02350924350321293, 0.0275617316365242, 0.014773293398320675, 0.012741897255182266, 0.008559076115489006, 0.020156892016530037, 0.02895195595920086, 0.017693791538476944]], [[1.0, 0.0, 0.0, 0.0, 0.0, 0.0, 0.0, 0.0, 0.0, 0.0, 0.0, 0.0, 0.0, 0.0, 0.0, 0.0, 0.0, 0.0, 0.0], [0.8650147914886475, 0.13498517870903015, 0.0, 0.0, 0.0, 0.0, 0.0, 0.0, 0.0, 0.0, 0.0, 0.0, 0.0, 0.0, 0.0, 0.0, 0.0, 0.0, 0.0], [0.9068537950515747, 0.04850979521870613, 0.04463641345500946, 0.0, 0.0, 0.0, 0.0, 0.0, 0.0, 0.0, 0.0, 0.0, 0.0, 0.0, 0.0, 0.0, 0.0, 0.0, 0.0], [0.8415055871009827, 0.04072195664048195, 0.007417564280331135, 0.11035490036010742, 0.0, 0.0, 0.0, 0.0, 0.0, 0.0, 0.0, 0.0, 0.0, 0.0, 0.0, 0.0, 0.0, 0.0, 0.0], [0.8441884517669678, 0.019219329580664635, 0.012764442712068558, 0.048274967819452286, 0.07555284351110458, 0.0, 0.0, 0.0, 0.0, 0.0, 0.0, 0.0, 0.0, 0.0, 0.0, 0.0, 0.0, 0.0, 0.0], [0.7163634896278381, 0.011067718267440796, 0.00672123534604907, 0.036888379603624344, 0.05769045650959015, 0.17126865684986115, 0.0, 0.0, 0.0, 0.0, 0.0, 0.0, 0.0, 0.0, 0.0, 0.0, 0.0, 0.0, 0.0], [0.9422164559364319, 0.010571719147264957, 0.0017023294931277633, 0.0038699177093803883, 0.002807917073369026, 0.024839483201503754, 0.013992187567055225, 0.0, 0.0, 0.0, 0.0, 0.0, 0.0, 0.0, 0.0, 0.0, 0.0, 0.0, 0.0], [0.9326059818267822, 0.010662097483873367, 0.0008978073019534349, 0.0010036082239821553, 0.0006635330501012504, 0.0036607554648071527, 0.002581362146884203, 0.04792496934533119, 0.0, 0.0, 0.0, 0.0, 0.0, 0.0, 0.0, 0.0, 0.0, 0.0, 0.0], [0.94810551404953, 0.014272438362240791, 0.0006114208372309804, 0.002716359682381153, 0.002333304611966014, 0.005871515721082687, 0.013715516775846481, 0.006615921389311552, 0.0057579530403018, 0.0, 0.0, 0.0, 0.0, 0.0, 0.0, 0.0, 0.0, 0.0, 0.0], [0.8396250009536743, 0.004596169572323561, 0.0005039835232309997, 0.001381289679557085, 0.002084484091028571, 0.004280286841094494, 0.008132847025990486, 0.01037693303078413, 0.01292148232460022, 0.11609742045402527, 0.0, 0.0, 0.0, 0.0, 0.0, 0.0, 0.0, 0.0, 0.0], [0.6432133316993713, 0.03864331543445587, 0.006230159662663937, 0.021797915920615196, 0.04820643365383148, 0.059251971542835236, 0.024631408974528313, 0.0043434747494757175, 0.014660535380244255, 0.028032712638378143, 0.11098877340555191, 0.0, 0.0, 0.0, 0.0, 0.0, 0.0, 0.0, 0.0], [0.7459673881530762, 0.02588975615799427, 0.0031282047275453806, 0.008715055882930756, 0.008670448325574398, 0.016620082780718803, 0.009800993837416172, 0.00289814081043005, 0.0064768255688250065, 0.013843878172338009, 0.036563873291015625, 0.12142528593540192, 0.0, 0.0, 0.0, 0.0, 0.0, 0.0, 0.0], [0.6317557096481323, 0.01650117337703705, 0.0013852997217327356, 0.0027513685636222363, 0.003656833665445447, 0.00906472746282816, 0.03185044601559639, 0.003825794206932187, 0.008812184445559978, 0.0108019495382905, 0.01917243003845215, 0.019551485776901245, 0.2408706396818161, 0.0, 0.0, 0.0, 0.0, 0.0, 0.0], [0.7010819911956787, 0.005774870980530977, 0.002946349559351802, 0.0013966020196676254, 0.0015882713487371802, 0.004611755255609751, 0.005183592904359102, 0.003589917439967394, 0.006357258185744286, 0.003059685230255127, 0.010118795558810234, 0.05888393521308899, 0.024298788979649544, 0.1711081862449646, 0.0, 0.0, 0.0, 0.0, 0.0], [0.8427942991256714, 0.008392923511564732, 0.0021255675237625837, 0.0021274250466376543, 0.0013691483763977885, 0.015251051634550095, 0.005977856460958719, 0.006203885190188885, 0.004385915119200945, 0.009860548190772533, 0.01612255908548832, 0.020753514021635056, 0.03354089707136154, 0.008817549794912338, 0.022276993840932846, 0.0, 0.0, 0.0, 0.0], [0.7629840970039368, 0.008480207994580269, 0.0011663050390779972, 0.0017803092487156391, 0.002537632593885064, 0.00784188974648714, 0.0027894240338355303, 0.022310372442007065, 0.011296499520540237, 0.023083264008164406, 0.01943153701722622, 0.010216576047241688, 0.007458434905856848, 0.008618633262813091, 0.011901394464075565, 0.09810350835323334, 0.0, 0.0, 0.0], [0.75971519947052, 0.008090806193649769, 0.0012283464893698692, 0.003120398847386241, 0.004850813187658787, 0.009154868312180042, 0.007977486588060856, 0.004305645357817411, 0.008830108679831028, 0.020398706197738647, 0.012866303324699402, 0.0072225057519972324, 0.026880068704485893, 0.003933543339371681, 0.032781098037958145, 0.024059249088168144, 0.06458493322134018, 0.0, 0.0], [0.6407884359359741, 0.0032857772894203663, 0.0009201696957461536, 0.0018835929222404957, 0.0031078008469194174, 0.0047202701680362225, 0.005182521417737007, 0.0058580366894602776, 0.0131361223757267, 0.044757451862096786, 0.014899755828082561, 0.006778341252356768, 0.017281053587794304, 0.0021557945292443037, 0.02293931134045124, 0.029023872688412666, 0.05922691151499748, 0.12405474483966827, 0.0], [0.6587746739387512, 0.019926119595766068, 0.006993474438786507, 0.005805797874927521, 0.001076968270353973, 0.0028894206043332815, 0.012354310601949692, 0.003913162276148796, 0.00617660116404295, 0.007846570573747158, 0.019177963957190514, 0.04861094802618027, 0.04334424436092377, 0.004510551691055298, 0.039918556809425354, 0.013086575083434582, 0.02096288651227951, 0.02259787544608116, 0.062033314257860184]]], \"headLabels\": [\"H0\", \"H1\", \"H2\", \"H3\", \"H4\", \"H5\", \"H6\", \"H7\", \"H8\", \"H9\", \"H10\", \"H11\"]}\n",
              "    )\n",
              "    </script>"
            ],
            "text/plain": [
              "<circuitsvis.utils.render.RenderedHTML at 0x7f7821bcd150>"
            ]
          },
          "metadata": {},
          "output_type": "display_data"
        }
      ],
      "source": [
        "\n",
        "attention_pattern = cache[\"pattern\", 5, \"attn\"].squeeze()\n",
        "\n",
        "display(cv.attention.attention_patterns(\n",
        "    tokens=str_tokens,\n",
        "    attention=attention_pattern,\n",
        "    attention_head_names=[f\"H{i}\" for i in range(12)],\n",
        "))"
      ]
    },
    {
      "cell_type": "markdown",
      "metadata": {
        "id": "coJLiIBg4FzK"
      },
      "source": [
        "# Sources\n",
        "\n",
        "These are the main inspirations:\n",
        "\n",
        "* https://arena-ch1-transformers.streamlit.app/[1.2]_Intro_to_Mech_Interp\n",
        "* https://transformer-circuits.pub/2021/framework/index.html\n",
        "\n",
        "Videos:\n",
        "\n",
        "* https://neelnanda.io/transformer-tutorial"
      ]
    }
  ],
  "metadata": {
    "accelerator": "GPU",
    "colab": {
      "gpuType": "T4",
      "provenance": []
    },
    "kernelspec": {
      "display_name": "Python 3",
      "name": "python3"
    },
    "language_info": {
      "codemirror_mode": {
        "name": "ipython",
        "version": 3
      },
      "file_extension": ".py",
      "mimetype": "text/x-python",
      "name": "python",
      "nbconvert_exporter": "python",
      "pygments_lexer": "ipython3",
      "version": "3.10.13"
    }
  },
  "nbformat": 4,
  "nbformat_minor": 0
}
